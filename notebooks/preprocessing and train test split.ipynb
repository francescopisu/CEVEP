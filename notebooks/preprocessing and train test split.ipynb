{
 "cells": [
  {
   "cell_type": "code",
   "execution_count": 1,
   "id": "5c097191",
   "metadata": {},
   "outputs": [],
   "source": [
    "import numpy as np\n",
    "import pandas as pd\n",
    "from sklearn.model_selection import train_test_split\n",
    "from sklearn.preprocessing import StandardScaler, LabelEncoder, OrdinalEncoder"
   ]
  },
  {
   "cell_type": "code",
   "execution_count": 2,
   "id": "7a722590",
   "metadata": {},
   "outputs": [],
   "source": [
    "df = pd.read_csv('../input/calcifications.csv')"
   ]
  },
  {
   "cell_type": "markdown",
   "id": "adc5f448",
   "metadata": {},
   "source": [
    "# Utilities"
   ]
  },
  {
   "cell_type": "code",
   "execution_count": 3,
   "id": "f1da5a66",
   "metadata": {},
   "outputs": [],
   "source": [
    "def prs_both(left, right):\n",
    "    \"\"\"\n",
    "    True if either left or right has type 6 calcification (positive rim sign)\n",
    "    \"\"\"\n",
    "    return \"yes\" if (left == \"Type6\" or right == \"Type6\") else \"no\"\n",
    "\n",
    "def prs(calc_type):\n",
    "    \"\"\"\n",
    "    True if either left or right has type 6 calcification (positive rim sign)\n",
    "    \"\"\"\n",
    "    return \"yes\" if calc_type == \"Type6\" else \"no\"\n",
    "\n",
    "def calc(left, right):\n",
    "    \"\"\"\n",
    "    True if either left or right carotid artery has some type of calcification\n",
    "    \"\"\"\n",
    "    return \"no\" if left == \"Type1\" and right == \"Type1\" else \"yes\"\n",
    "\n",
    "def calc_and_lipids(left, right, lipids):\n",
    "    \"\"\"\n",
    "    True if either left or right carotid artery has some type of calcification\n",
    "    \"\"\"\n",
    "    return \"yes\" if (left not in  [\"Type1\", \"Type2\"] or right not in [\"Type1\", \"Type2\"]) and lipids == 'yes' else \"no\"\n",
    "\n",
    "def at_least_5_and_high_stenosis_both(calc_left, calc_right, sten_left, sten_right):\n",
    "    \"\"\"True if calcification type in both sides is at least 4 and stenosis is at least 70 on the left\n",
    "    and 70 on the right (35 left and 25 right before)\n",
    "    \"\"\"\n",
    "    return \"yes\" if ((calc_left in [\"Type5\", \"Type6\"] and sten_left >= 70) or \n",
    "                 (calc_right in [\"Type5\", \"Type6\"] and sten_right >= 70)) else \"no\"\n",
    "\n",
    "def at_least_5_and_high_stenosis(calc_type, stenosis):\n",
    "    return \"yes\" if (calc_type in [\"Type5\", \"Type6\"] and stenosis >= 70) else \"no\"\n",
    "\n",
    "def stenosis_risk_strat(stenosis):\n",
    "    if stenosis < 50:\n",
    "        return \"low\"\n",
    "    elif stenosis >= 50 and stenosis < 70:\n",
    "        return \"medium\"\n",
    "    elif stenosis >= 70:\n",
    "        return \"high\""
   ]
  },
  {
   "cell_type": "markdown",
   "id": "43bac7a2",
   "metadata": {},
   "source": [
    "# Training Set"
   ]
  },
  {
   "cell_type": "code",
   "execution_count": 3,
   "id": "e80cd135",
   "metadata": {},
   "outputs": [],
   "source": [
    "train = df.copy()"
   ]
  },
  {
   "cell_type": "code",
   "execution_count": 10,
   "id": "18b09667",
   "metadata": {},
   "outputs": [],
   "source": [
    "train[\"prs_either\"] = train.apply(lambda x: prs_both(x['calcification_type_left'], \n",
    "                                                     x['calcification_type_right']), axis=1)\n",
    "#train[\"prs_either\"] = train[\"prs_either\"].astype(\"category\")\n",
    "#train[\"prs_left\"] = train.apply(lambda x: prs(x['calcification_type_left']), axis=1)\n",
    "#train[\"prs_right\"] = train.apply(lambda x: prs(x['calcification_type_right']), axis=1)"
   ]
  },
  {
   "cell_type": "code",
   "execution_count": 11,
   "id": "a09e9ea8",
   "metadata": {},
   "outputs": [],
   "source": [
    "train['calc_and_lipids'] = train.apply(lambda x: calc_and_lipids(x['calcification_type_left'], \n",
    "                                                    x['calcification_type_right'], \n",
    "                                                    x['hyperlipidemia']), axis=1)"
   ]
  },
  {
   "cell_type": "code",
   "execution_count": 12,
   "id": "ce8c6488",
   "metadata": {},
   "outputs": [],
   "source": [
    "train['at_least_5_and_stenosis_either'] = train.apply(lambda x: at_least_5_and_high_stenosis_both(x['calcification_type_left'], \n",
    "                                                 x['calcification_type_right'],\n",
    "                                                 x['stenosis_left'],\n",
    "                                                 x['stenosis_right']), axis=1)\n",
    "#train['at_least_5_and_stenosis_left'] = train.apply(lambda x: at_least_5_and_high_stenosis(x['calcification_type_left'], \n",
    "#                                                 x['stenosis_left']), axis=1)\n",
    "#train['at_least_5_and_stenosis_right'] = train.apply(lambda x: at_least_5_and_high_stenosis(x['calcification_type_right'],\n",
    "#                                                 x['stenosis_right']), axis=1)"
   ]
  },
  {
   "cell_type": "code",
   "execution_count": 211,
   "id": "4601e1f5",
   "metadata": {},
   "outputs": [],
   "source": [
    "train['stenosis_risk_left'] = train.apply(lambda x: stenosis_risk_strat(x['stenosis_left']), axis=1)\n",
    "train['stenosis_risk_right'] = train.apply(lambda x: stenosis_risk_strat(x['stenosis_right']), axis=1)"
   ]
  },
  {
   "cell_type": "code",
   "execution_count": 4,
   "id": "7eaba713",
   "metadata": {},
   "outputs": [],
   "source": [
    "train.to_csv(\"../input/train.csv\", index=False)"
   ]
  },
  {
   "cell_type": "markdown",
   "id": "d0e96e9c",
   "metadata": {},
   "source": [
    "# Validation Set"
   ]
  },
  {
   "cell_type": "code",
   "execution_count": 11,
   "id": "b3fb2e68",
   "metadata": {},
   "outputs": [
    {
     "data": {
      "text/plain": [
       "no     0.610063\n",
       "yes    0.389937\n",
       "Name: symptoms, dtype: float64"
      ]
     },
     "execution_count": 11,
     "metadata": {},
     "output_type": "execute_result"
    }
   ],
   "source": [
    "valid.symptoms.value_counts(normalize=True)"
   ]
  },
  {
   "cell_type": "code",
   "execution_count": 12,
   "id": "6180ee4c",
   "metadata": {},
   "outputs": [
    {
     "data": {
      "text/plain": [
       "Index(['site', 'infarct_side', 'calcification_type_right',\n",
       "       'calcification_type_left', 'symptoms', 'stroke', 'TIA', 'hypertension',\n",
       "       'cad', 'smoker_status', 'age', 'gender', 'diabetes', 'hyperlipidemia',\n",
       "       'stenosis_right', 'stenosis_left', 'prs_either', 'calc_and_lipids',\n",
       "       'at_least_5_and_stenosis_either'],\n",
       "      dtype='object')"
      ]
     },
     "execution_count": 12,
     "metadata": {},
     "output_type": "execute_result"
    }
   ],
   "source": [
    "valid.columns"
   ]
  },
  {
   "cell_type": "code",
   "execution_count": 6,
   "id": "4b9f2cc4",
   "metadata": {},
   "outputs": [],
   "source": [
    "valid = pd.read_csv('../input/external.csv')"
   ]
  },
  {
   "cell_type": "code",
   "execution_count": 8,
   "id": "4dc5a4f9",
   "metadata": {},
   "outputs": [],
   "source": [
    "valid.drop(['prs_either', 'calc_and_lipids',\n",
    "       'at_least_5_and_stenosis_either'], axis=1, inplace=True)"
   ]
  },
  {
   "cell_type": "code",
   "execution_count": 215,
   "id": "7ed59f64",
   "metadata": {},
   "outputs": [],
   "source": [
    "valid[\"prs_either\"] = valid.apply(lambda x: prs_both(x['calcification_type_left'], \n",
    "                                                     x['calcification_type_right']), axis=1)\n",
    "#valid[\"prs_either\"] = valid[\"prs_either\"].astype(\"category\")\n",
    "#valid[\"prs_left\"] = valid.apply(lambda x: prs(x['calcification_type_left']), axis=1)\n",
    "#valid[\"prs_right\"] = valid.apply(lambda x: prs(x['calcification_type_right']), axis=1)"
   ]
  },
  {
   "cell_type": "code",
   "execution_count": 216,
   "id": "75d77314",
   "metadata": {},
   "outputs": [],
   "source": [
    "valid['calc_and_lipids'] = valid.apply(lambda x: calc_and_lipids(x['calcification_type_left'], \n",
    "                                                    x['calcification_type_right'], \n",
    "                                                    x['hyperlipidemia']), axis=1)"
   ]
  },
  {
   "cell_type": "code",
   "execution_count": 217,
   "id": "3379a935",
   "metadata": {},
   "outputs": [],
   "source": [
    "valid['at_least_5_and_stenosis_either'] = valid.apply(lambda x: at_least_5_and_high_stenosis_both(x['calcification_type_left'], \n",
    "                                                 x['calcification_type_right'],\n",
    "                                                 x['stenosis_left'],\n",
    "                                                 x['stenosis_right']), axis=1)\n",
    "#valid['at_least_5_and_stenosis_left'] = valid.apply(lambda x: at_least_5_and_high_stenosis(x['calcification_type_left'], \n",
    "#                                                 x['stenosis_left']), axis=1)\n",
    "#valid['at_least_5_and_stenosis_right'] = valid.apply(lambda x: at_least_5_and_high_stenosis(x['calcification_type_right'],\n",
    "#                                                 x['stenosis_right']), axis=1)"
   ]
  },
  {
   "cell_type": "code",
   "execution_count": 218,
   "id": "83eaefbf",
   "metadata": {},
   "outputs": [],
   "source": [
    "valid['stenosis_risk_left'] = valid.apply(lambda x: stenosis_risk_strat(x['stenosis_left']), axis=1)\n",
    "valid['stenosis_risk_right'] = valid.apply(lambda x: stenosis_risk_strat(x['stenosis_right']), axis=1)"
   ]
  },
  {
   "cell_type": "code",
   "execution_count": 9,
   "id": "38a83e3e",
   "metadata": {},
   "outputs": [],
   "source": [
    "valid.to_csv(\"../input/external.csv\", index=False)"
   ]
  },
  {
   "cell_type": "code",
   "execution_count": null,
   "id": "aad52b5d",
   "metadata": {},
   "outputs": [],
   "source": [
    "# Sample exploration"
   ]
  },
  {
   "cell_type": "code",
   "execution_count": 15,
   "id": "0157e569",
   "metadata": {},
   "outputs": [
    {
     "data": {
      "text/plain": [
       "no     0.836614\n",
       "yes    0.163386\n",
       "Name: prs_either, dtype: float64"
      ]
     },
     "execution_count": 15,
     "metadata": {},
     "output_type": "execute_result"
    }
   ],
   "source": [
    "symptomatic = train[train[\"symptoms\"] == 'yes']\n",
    "asymptomatic = train[train[\"symptoms\"] == 'no']\n",
    "symptomatic[\"prs_either\"].value_counts(normalize=True)"
   ]
  },
  {
   "cell_type": "code",
   "execution_count": null,
   "id": "52bca345",
   "metadata": {},
   "outputs": [],
   "source": []
  },
  {
   "cell_type": "code",
   "execution_count": 5,
   "id": "193c6342",
   "metadata": {},
   "outputs": [
    {
     "data": {
      "text/html": [
       "<div>\n",
       "<style scoped>\n",
       "    .dataframe tbody tr th:only-of-type {\n",
       "        vertical-align: middle;\n",
       "    }\n",
       "\n",
       "    .dataframe tbody tr th {\n",
       "        vertical-align: top;\n",
       "    }\n",
       "\n",
       "    .dataframe thead th {\n",
       "        text-align: right;\n",
       "    }\n",
       "</style>\n",
       "<table border=\"1\" class=\"dataframe\">\n",
       "  <thead>\n",
       "    <tr style=\"text-align: right;\">\n",
       "      <th></th>\n",
       "      <th>site</th>\n",
       "      <th>patient_ID</th>\n",
       "      <th>infarct_side</th>\n",
       "      <th>calcification_type_right</th>\n",
       "      <th>calcification_type_left</th>\n",
       "      <th>symptoms</th>\n",
       "      <th>stroke</th>\n",
       "      <th>TIA</th>\n",
       "      <th>hypertension</th>\n",
       "      <th>cad</th>\n",
       "      <th>smoker_status</th>\n",
       "      <th>age</th>\n",
       "      <th>gender</th>\n",
       "      <th>diabetes</th>\n",
       "      <th>hyperlipidemia</th>\n",
       "      <th>stenosis_right</th>\n",
       "      <th>stenosis_left</th>\n",
       "      <th>prs_either</th>\n",
       "      <th>calc_and_lipids</th>\n",
       "      <th>at_least_5_and_stenosis_either</th>\n",
       "    </tr>\n",
       "  </thead>\n",
       "  <tbody>\n",
       "    <tr>\n",
       "      <th>0</th>\n",
       "      <td>Cagliari</td>\n",
       "      <td>Cagliari 1</td>\n",
       "      <td>left</td>\n",
       "      <td>Type1</td>\n",
       "      <td>Type1</td>\n",
       "      <td>yes</td>\n",
       "      <td>yes</td>\n",
       "      <td>no</td>\n",
       "      <td>no</td>\n",
       "      <td>no</td>\n",
       "      <td>yes</td>\n",
       "      <td>48</td>\n",
       "      <td>male</td>\n",
       "      <td>no</td>\n",
       "      <td>yes</td>\n",
       "      <td>5.0</td>\n",
       "      <td>10.0</td>\n",
       "      <td>no</td>\n",
       "      <td>no</td>\n",
       "      <td>no</td>\n",
       "    </tr>\n",
       "    <tr>\n",
       "      <th>1</th>\n",
       "      <td>Cagliari</td>\n",
       "      <td>Cagliari 11</td>\n",
       "      <td>right</td>\n",
       "      <td>Type3</td>\n",
       "      <td>Type2</td>\n",
       "      <td>yes</td>\n",
       "      <td>yes</td>\n",
       "      <td>no</td>\n",
       "      <td>yes</td>\n",
       "      <td>no</td>\n",
       "      <td>yes</td>\n",
       "      <td>81</td>\n",
       "      <td>female</td>\n",
       "      <td>no</td>\n",
       "      <td>yes</td>\n",
       "      <td>100.0</td>\n",
       "      <td>0.0</td>\n",
       "      <td>no</td>\n",
       "      <td>yes</td>\n",
       "      <td>no</td>\n",
       "    </tr>\n",
       "    <tr>\n",
       "      <th>2</th>\n",
       "      <td>Cagliari</td>\n",
       "      <td>Cagliari 16</td>\n",
       "      <td>right</td>\n",
       "      <td>Type3</td>\n",
       "      <td>Type3</td>\n",
       "      <td>yes</td>\n",
       "      <td>yes</td>\n",
       "      <td>no</td>\n",
       "      <td>yes</td>\n",
       "      <td>no</td>\n",
       "      <td>yes</td>\n",
       "      <td>66</td>\n",
       "      <td>female</td>\n",
       "      <td>yes</td>\n",
       "      <td>yes</td>\n",
       "      <td>100.0</td>\n",
       "      <td>0.0</td>\n",
       "      <td>no</td>\n",
       "      <td>yes</td>\n",
       "      <td>no</td>\n",
       "    </tr>\n",
       "    <tr>\n",
       "      <th>3</th>\n",
       "      <td>Cagliari</td>\n",
       "      <td>Cagliari 17</td>\n",
       "      <td>left</td>\n",
       "      <td>Type5</td>\n",
       "      <td>Type5</td>\n",
       "      <td>yes</td>\n",
       "      <td>yes</td>\n",
       "      <td>no</td>\n",
       "      <td>no</td>\n",
       "      <td>no</td>\n",
       "      <td>yes</td>\n",
       "      <td>75</td>\n",
       "      <td>female</td>\n",
       "      <td>no</td>\n",
       "      <td>yes</td>\n",
       "      <td>0.0</td>\n",
       "      <td>20.0</td>\n",
       "      <td>no</td>\n",
       "      <td>yes</td>\n",
       "      <td>no</td>\n",
       "    </tr>\n",
       "    <tr>\n",
       "      <th>4</th>\n",
       "      <td>Cagliari</td>\n",
       "      <td>Cagliari 19</td>\n",
       "      <td>right</td>\n",
       "      <td>Type1</td>\n",
       "      <td>Type1</td>\n",
       "      <td>yes</td>\n",
       "      <td>yes</td>\n",
       "      <td>no</td>\n",
       "      <td>no</td>\n",
       "      <td>no</td>\n",
       "      <td>yes</td>\n",
       "      <td>41</td>\n",
       "      <td>male</td>\n",
       "      <td>no</td>\n",
       "      <td>yes</td>\n",
       "      <td>50.0</td>\n",
       "      <td>50.0</td>\n",
       "      <td>no</td>\n",
       "      <td>no</td>\n",
       "      <td>no</td>\n",
       "    </tr>\n",
       "  </tbody>\n",
       "</table>\n",
       "</div>"
      ],
      "text/plain": [
       "       site   patient_ID infarct_side calcification_type_right  \\\n",
       "0  Cagliari   Cagliari 1         left                    Type1   \n",
       "1  Cagliari  Cagliari 11        right                    Type3   \n",
       "2  Cagliari  Cagliari 16        right                    Type3   \n",
       "3  Cagliari  Cagliari 17         left                    Type5   \n",
       "4  Cagliari  Cagliari 19        right                    Type1   \n",
       "\n",
       "  calcification_type_left symptoms stroke TIA hypertension cad smoker_status  \\\n",
       "0                   Type1      yes    yes  no           no  no           yes   \n",
       "1                   Type2      yes    yes  no          yes  no           yes   \n",
       "2                   Type3      yes    yes  no          yes  no           yes   \n",
       "3                   Type5      yes    yes  no           no  no           yes   \n",
       "4                   Type1      yes    yes  no           no  no           yes   \n",
       "\n",
       "   age  gender diabetes hyperlipidemia  stenosis_right  stenosis_left  \\\n",
       "0   48    male       no            yes             5.0           10.0   \n",
       "1   81  female       no            yes           100.0            0.0   \n",
       "2   66  female      yes            yes           100.0            0.0   \n",
       "3   75  female       no            yes             0.0           20.0   \n",
       "4   41    male       no            yes            50.0           50.0   \n",
       "\n",
       "  prs_either calc_and_lipids at_least_5_and_stenosis_either  \n",
       "0         no              no                             no  \n",
       "1         no             yes                             no  \n",
       "2         no             yes                             no  \n",
       "3         no             yes                             no  \n",
       "4         no              no                             no  "
      ]
     },
     "execution_count": 5,
     "metadata": {},
     "output_type": "execute_result"
    }
   ],
   "source": [
    "train = pd.read_csv('../input/train.csv')\n",
    "train.head(5)"
   ]
  },
  {
   "cell_type": "code",
   "execution_count": 6,
   "id": "44773e9f",
   "metadata": {},
   "outputs": [],
   "source": [
    "symptomatic = train[train[\"symptoms\"] == 'yes']\n",
    "asymptomatic = train[train[\"symptoms\"] == 'no']"
   ]
  },
  {
   "cell_type": "code",
   "execution_count": 8,
   "id": "7c123e19",
   "metadata": {},
   "outputs": [
    {
     "name": "stderr",
     "output_type": "stream",
     "text": [
      "/var/folders/1p/1ck1ggqs5jg_wdfpm41gx6dr0000gn/T/ipykernel_51088/505968399.py:1: SettingWithCopyWarning: \n",
      "A value is trying to be set on a copy of a slice from a DataFrame.\n",
      "Try using .loc[row_indexer,col_indexer] = value instead\n",
      "\n",
      "See the caveats in the documentation: https://pandas.pydata.org/pandas-docs/stable/user_guide/indexing.html#returning-a-view-versus-a-copy\n",
      "  asymptomatic[\"stenosis_left_greater_50\"] = asymptomatic[\"stenosis_left\"] >= 50.0\n",
      "/var/folders/1p/1ck1ggqs5jg_wdfpm41gx6dr0000gn/T/ipykernel_51088/505968399.py:2: SettingWithCopyWarning: \n",
      "A value is trying to be set on a copy of a slice from a DataFrame.\n",
      "Try using .loc[row_indexer,col_indexer] = value instead\n",
      "\n",
      "See the caveats in the documentation: https://pandas.pydata.org/pandas-docs/stable/user_guide/indexing.html#returning-a-view-versus-a-copy\n",
      "  asymptomatic[\"stenosis_right_greater_50\"] = asymptomatic[\"stenosis_right\"] >= 50.0\n"
     ]
    }
   ],
   "source": [
    "asymptomatic[\"stenosis_left_greater_50\"] = asymptomatic[\"stenosis_left\"] >= 50.0\n",
    "asymptomatic[\"stenosis_right_greater_50\"] = asymptomatic[\"stenosis_right\"] >= 50.0"
   ]
  },
  {
   "cell_type": "code",
   "execution_count": 10,
   "id": "3c98a151",
   "metadata": {},
   "outputs": [
    {
     "data": {
      "text/plain": [
       "False    171\n",
       "True     111\n",
       "Name: stenosis_right_greater_50, dtype: int64"
      ]
     },
     "execution_count": 10,
     "metadata": {},
     "output_type": "execute_result"
    }
   ],
   "source": [
    "asymptomatic[\"stenosis_right_greater_50\"].value_counts()"
   ]
  },
  {
   "cell_type": "code",
   "execution_count": null,
   "id": "1a87b2e0",
   "metadata": {},
   "outputs": [],
   "source": []
  },
  {
   "cell_type": "code",
   "execution_count": null,
   "id": "eb839e6d",
   "metadata": {},
   "outputs": [],
   "source": []
  },
  {
   "cell_type": "code",
   "execution_count": null,
   "id": "bcfd1946",
   "metadata": {},
   "outputs": [],
   "source": []
  },
  {
   "cell_type": "code",
   "execution_count": null,
   "id": "4041c280",
   "metadata": {},
   "outputs": [],
   "source": []
  },
  {
   "cell_type": "code",
   "execution_count": null,
   "id": "a8251c12",
   "metadata": {},
   "outputs": [],
   "source": []
  },
  {
   "cell_type": "code",
   "execution_count": null,
   "id": "32b19849",
   "metadata": {},
   "outputs": [],
   "source": []
  },
  {
   "cell_type": "code",
   "execution_count": 8,
   "id": "1be2890c",
   "metadata": {},
   "outputs": [
    {
     "data": {
      "text/plain": [
       "no     0.677419\n",
       "yes    0.322581\n",
       "Name: prs_either, dtype: float64"
      ]
     },
     "execution_count": 8,
     "metadata": {},
     "output_type": "execute_result"
    }
   ],
   "source": [
    "symptomatic = valid[valid[\"symptoms\"] == 'yes']\n",
    "asymptomatic = valid[valid[\"symptoms\"] == 'no']\n",
    "symptomatic[\"prs_either\"].value_counts(normalize=True)"
   ]
  },
  {
   "cell_type": "code",
   "execution_count": 21,
   "id": "bf937ade",
   "metadata": {},
   "outputs": [
    {
     "data": {
      "text/plain": [
       "no     0.968085\n",
       "yes    0.031915\n",
       "Name: prs_either, dtype: float64"
      ]
     },
     "execution_count": 21,
     "metadata": {},
     "output_type": "execute_result"
    }
   ],
   "source": [
    "asymptomatic[\"prs_either\"].value_counts(normalize=True)"
   ]
  },
  {
   "cell_type": "code",
   "execution_count": 15,
   "id": "889f66df",
   "metadata": {},
   "outputs": [
    {
     "data": {
      "text/plain": [
       "Type1    0.350515\n",
       "Type2    0.278351\n",
       "Type3    0.216495\n",
       "Type4    0.103093\n",
       "Type5    0.030928\n",
       "Type6    0.020619\n",
       "Name: calcification_type_right, dtype: float64"
      ]
     },
     "execution_count": 15,
     "metadata": {},
     "output_type": "execute_result"
    }
   ],
   "source": [
    "asymptomatic[\"calcification_type_right\"].value_counts(normalize=True)"
   ]
  },
  {
   "cell_type": "code",
   "execution_count": 17,
   "id": "d898b378",
   "metadata": {},
   "outputs": [
    {
     "data": {
      "text/plain": [
       "Type1    123\n",
       "Type3     75\n",
       "Type2     48\n",
       "Type4     19\n",
       "Type5     14\n",
       "Type6      3\n",
       "Name: calcification_type_right, dtype: int64"
      ]
     },
     "execution_count": 17,
     "metadata": {},
     "output_type": "execute_result"
    }
   ],
   "source": [
    "asymptomatic[\"calcification_type_right\"].value_counts(normalize=False)"
   ]
  },
  {
   "cell_type": "code",
   "execution_count": 19,
   "id": "9d11de13",
   "metadata": {},
   "outputs": [
    {
     "data": {
      "text/plain": [
       "(282, 20)"
      ]
     },
     "execution_count": 19,
     "metadata": {},
     "output_type": "execute_result"
    }
   ],
   "source": [
    "asymptomatic.shape"
   ]
  },
  {
   "cell_type": "code",
   "execution_count": null,
   "id": "2e30afd6",
   "metadata": {},
   "outputs": [],
   "source": [
    "# frazione dei soggetti senza placca in entrambi i lati che ha avuto sintomi"
   ]
  },
  {
   "cell_type": "code",
   "execution_count": 22,
   "id": "82acf8ce",
   "metadata": {},
   "outputs": [
    {
     "data": {
      "text/plain": [
       "(109, 20)"
      ]
     },
     "execution_count": 22,
     "metadata": {},
     "output_type": "execute_result"
    }
   ],
   "source": [
    "symptomatic[(symptomatic[\"calcification_type_right\"] == \"Type1\") & (symptomatic[\"calcification_type_left\"] == \"Type1\")].shape"
   ]
  },
  {
   "cell_type": "code",
   "execution_count": 23,
   "id": "fa746cf4",
   "metadata": {},
   "outputs": [
    {
     "data": {
      "text/plain": [
       "(508, 20)"
      ]
     },
     "execution_count": 23,
     "metadata": {},
     "output_type": "execute_result"
    }
   ],
   "source": [
    "symptomatic.shape"
   ]
  },
  {
   "cell_type": "code",
   "execution_count": 24,
   "id": "5a262e47",
   "metadata": {},
   "outputs": [
    {
     "data": {
      "text/plain": [
       "0.21456692913385828"
      ]
     },
     "execution_count": 24,
     "metadata": {},
     "output_type": "execute_result"
    }
   ],
   "source": [
    "109 / 508"
   ]
  },
  {
   "cell_type": "code",
   "execution_count": 26,
   "id": "e27f9010",
   "metadata": {},
   "outputs": [
    {
     "data": {
      "text/plain": [
       "count    62.000000\n",
       "mean     68.677419\n",
       "std       9.745574\n",
       "min      50.000000\n",
       "25%      61.000000\n",
       "50%      68.000000\n",
       "75%      75.000000\n",
       "max      87.000000\n",
       "Name: age, dtype: float64"
      ]
     },
     "execution_count": 26,
     "metadata": {},
     "output_type": "execute_result"
    }
   ],
   "source": [
    "# età mediana dei sintomatici\n",
    "symptomatic[\"age\"].describe()"
   ]
  },
  {
   "cell_type": "code",
   "execution_count": 33,
   "id": "f4d519cc",
   "metadata": {},
   "outputs": [
    {
     "data": {
      "text/plain": [
       "count     15.000000\n",
       "mean      57.066667\n",
       "std       31.077016\n",
       "min        5.000000\n",
       "25%       41.500000\n",
       "50%       65.000000\n",
       "75%       75.000000\n",
       "max      100.000000\n",
       "Name: stenosis_right, dtype: float64"
      ]
     },
     "execution_count": 33,
     "metadata": {},
     "output_type": "execute_result"
    }
   ],
   "source": [
    "valid[valid[\"stenosis_left\"] == 0][\"stenosis_right\"].describe()"
   ]
  },
  {
   "cell_type": "code",
   "execution_count": 34,
   "id": "b5029aea",
   "metadata": {},
   "outputs": [
    {
     "data": {
      "text/plain": [
       "count     18.000000\n",
       "mean      49.611111\n",
       "std       26.795827\n",
       "min       10.000000\n",
       "25%       25.000000\n",
       "50%       45.000000\n",
       "75%       66.000000\n",
       "max      100.000000\n",
       "Name: stenosis_left, dtype: float64"
      ]
     },
     "execution_count": 34,
     "metadata": {},
     "output_type": "execute_result"
    }
   ],
   "source": [
    "valid[valid[\"stenosis_right\"] == 0][\"stenosis_left\"].describe()"
   ]
  },
  {
   "cell_type": "code",
   "execution_count": 25,
   "id": "ffb84b40",
   "metadata": {},
   "outputs": [
    {
     "ename": "NameError",
     "evalue": "name 'valid' is not defined",
     "output_type": "error",
     "traceback": [
      "\u001b[0;31m---------------------------------------------------------------------------\u001b[0m",
      "\u001b[0;31mNameError\u001b[0m                                 Traceback (most recent call last)",
      "Input \u001b[0;32mIn [25]\u001b[0m, in \u001b[0;36m<module>\u001b[0;34m\u001b[0m\n\u001b[1;32m      1\u001b[0m \u001b[38;5;66;03m# tra tutti quelli che hanno positive rim sign, quanti sintomatici\u001b[39;00m\n\u001b[0;32m----> 2\u001b[0m \u001b[43mvalid\u001b[49m[valid[\u001b[38;5;124m\"\u001b[39m\u001b[38;5;124mprs_either\u001b[39m\u001b[38;5;124m\"\u001b[39m] \u001b[38;5;241m==\u001b[39m \u001b[38;5;124m\"\u001b[39m\u001b[38;5;124myes\u001b[39m\u001b[38;5;124m\"\u001b[39m][\u001b[38;5;124m\"\u001b[39m\u001b[38;5;124msymptoms\u001b[39m\u001b[38;5;124m\"\u001b[39m]\u001b[38;5;241m.\u001b[39mvalue_counts(normalize\u001b[38;5;241m=\u001b[39m\u001b[38;5;28;01mFalse\u001b[39;00m)\n",
      "\u001b[0;31mNameError\u001b[0m: name 'valid' is not defined"
     ]
    }
   ],
   "source": [
    "# tra tutti quelli che hanno positive rim sign, quanti sintomatici\n",
    "valid[valid[\"prs_either\"] == \"yes\"][\"symptoms\"].value_counts(normalize=False)\n",
    "#symptomatic[symptomatic[\"prs_either\"] == \"yes\"][\"symptoms\"].value_counts(normalize=False)"
   ]
  },
  {
   "cell_type": "code",
   "execution_count": 26,
   "id": "7b895810",
   "metadata": {},
   "outputs": [
    {
     "data": {
      "text/plain": [
       "yes    83\n",
       "no      9\n",
       "Name: symptoms, dtype: int64"
      ]
     },
     "execution_count": 26,
     "metadata": {},
     "output_type": "execute_result"
    }
   ],
   "source": [
    "# tra tutti quelli che hanno positive rim sign, quanti sintomatici\n",
    "train[train[\"prs_either\"] == \"yes\"][\"symptoms\"].value_counts(normalize=False)\n",
    "#symptomatic[symptomatic[\"prs_either\"] == \"yes\"][\"symptoms\"].value_counts(normalize=False)"
   ]
  },
  {
   "cell_type": "code",
   "execution_count": 28,
   "id": "250653a3",
   "metadata": {},
   "outputs": [
    {
     "data": {
      "text/plain": [
       "no     425\n",
       "yes     83\n",
       "Name: prs_either, dtype: int64"
      ]
     },
     "execution_count": 28,
     "metadata": {},
     "output_type": "execute_result"
    }
   ],
   "source": [
    "train[train[\"symptoms\"] == \"yes\"][\"prs_either\"].value_counts(normalize=False)"
   ]
  },
  {
   "cell_type": "code",
   "execution_count": 48,
   "id": "fc9cf25d",
   "metadata": {},
   "outputs": [
    {
     "data": {
      "text/html": [
       "<div>\n",
       "<style scoped>\n",
       "    .dataframe tbody tr th:only-of-type {\n",
       "        vertical-align: middle;\n",
       "    }\n",
       "\n",
       "    .dataframe tbody tr th {\n",
       "        vertical-align: top;\n",
       "    }\n",
       "\n",
       "    .dataframe thead th {\n",
       "        text-align: right;\n",
       "    }\n",
       "</style>\n",
       "<table border=\"1\" class=\"dataframe\">\n",
       "  <thead>\n",
       "    <tr style=\"text-align: right;\">\n",
       "      <th>symptoms</th>\n",
       "      <th>no</th>\n",
       "      <th>yes</th>\n",
       "      <th>All</th>\n",
       "    </tr>\n",
       "    <tr>\n",
       "      <th>prs_either</th>\n",
       "      <th></th>\n",
       "      <th></th>\n",
       "      <th></th>\n",
       "    </tr>\n",
       "  </thead>\n",
       "  <tbody>\n",
       "    <tr>\n",
       "      <th>no</th>\n",
       "      <td>95</td>\n",
       "      <td>42</td>\n",
       "      <td>137</td>\n",
       "    </tr>\n",
       "    <tr>\n",
       "      <th>yes</th>\n",
       "      <td>2</td>\n",
       "      <td>20</td>\n",
       "      <td>22</td>\n",
       "    </tr>\n",
       "    <tr>\n",
       "      <th>All</th>\n",
       "      <td>97</td>\n",
       "      <td>62</td>\n",
       "      <td>159</td>\n",
       "    </tr>\n",
       "  </tbody>\n",
       "</table>\n",
       "</div>"
      ],
      "text/plain": [
       "symptoms    no  yes  All\n",
       "prs_either              \n",
       "no          95   42  137\n",
       "yes          2   20   22\n",
       "All         97   62  159"
      ]
     },
     "execution_count": 48,
     "metadata": {},
     "output_type": "execute_result"
    }
   ],
   "source": [
    "pd.crosstab(valid[\"prs_either\"], valid[\"symptoms\"], margins=True)"
   ]
  },
  {
   "cell_type": "code",
   "execution_count": 27,
   "id": "23359bee",
   "metadata": {},
   "outputs": [
    {
     "data": {
      "text/html": [
       "<div>\n",
       "<style scoped>\n",
       "    .dataframe tbody tr th:only-of-type {\n",
       "        vertical-align: middle;\n",
       "    }\n",
       "\n",
       "    .dataframe tbody tr th {\n",
       "        vertical-align: top;\n",
       "    }\n",
       "\n",
       "    .dataframe thead th {\n",
       "        text-align: right;\n",
       "    }\n",
       "</style>\n",
       "<table border=\"1\" class=\"dataframe\">\n",
       "  <thead>\n",
       "    <tr style=\"text-align: right;\">\n",
       "      <th>symptoms</th>\n",
       "      <th>no</th>\n",
       "      <th>yes</th>\n",
       "      <th>All</th>\n",
       "    </tr>\n",
       "    <tr>\n",
       "      <th>prs_either</th>\n",
       "      <th></th>\n",
       "      <th></th>\n",
       "      <th></th>\n",
       "    </tr>\n",
       "  </thead>\n",
       "  <tbody>\n",
       "    <tr>\n",
       "      <th>no</th>\n",
       "      <td>273</td>\n",
       "      <td>425</td>\n",
       "      <td>698</td>\n",
       "    </tr>\n",
       "    <tr>\n",
       "      <th>yes</th>\n",
       "      <td>9</td>\n",
       "      <td>83</td>\n",
       "      <td>92</td>\n",
       "    </tr>\n",
       "    <tr>\n",
       "      <th>All</th>\n",
       "      <td>282</td>\n",
       "      <td>508</td>\n",
       "      <td>790</td>\n",
       "    </tr>\n",
       "  </tbody>\n",
       "</table>\n",
       "</div>"
      ],
      "text/plain": [
       "symptoms     no  yes  All\n",
       "prs_either               \n",
       "no          273  425  698\n",
       "yes           9   83   92\n",
       "All         282  508  790"
      ]
     },
     "execution_count": 27,
     "metadata": {},
     "output_type": "execute_result"
    }
   ],
   "source": [
    "pd.crosstab(train[\"prs_either\"], train[\"symptoms\"], margins=True)"
   ]
  },
  {
   "cell_type": "code",
   "execution_count": 52,
   "id": "845c8767",
   "metadata": {},
   "outputs": [
    {
     "data": {
      "text/plain": [
       "((14, 19), (20, 19))"
      ]
     },
     "execution_count": 52,
     "metadata": {},
     "output_type": "execute_result"
    }
   ],
   "source": [
    "# distribuzione sintomo/no sintomo nei soggetti con type 6 a destra e 4 a sinistra\n",
    "symptomatic[(symptomatic[\"calcification_type_right\"] == \"Type6\")].shape, symptomatic[(symptomatic[\"prs_either\"] == \"yes\")].shape"
   ]
  },
  {
   "cell_type": "code",
   "execution_count": 69,
   "id": "4ab822d4",
   "metadata": {},
   "outputs": [
    {
     "data": {
      "text/html": [
       "<div>\n",
       "<style scoped>\n",
       "    .dataframe tbody tr th:only-of-type {\n",
       "        vertical-align: middle;\n",
       "    }\n",
       "\n",
       "    .dataframe tbody tr th {\n",
       "        vertical-align: top;\n",
       "    }\n",
       "\n",
       "    .dataframe thead th {\n",
       "        text-align: right;\n",
       "    }\n",
       "</style>\n",
       "<table border=\"1\" class=\"dataframe\">\n",
       "  <thead>\n",
       "    <tr style=\"text-align: right;\">\n",
       "      <th>calcification_type_left</th>\n",
       "      <th>Type1</th>\n",
       "      <th>Type2</th>\n",
       "      <th>Type3</th>\n",
       "      <th>Type4</th>\n",
       "      <th>Type5</th>\n",
       "      <th>Type6</th>\n",
       "      <th>All</th>\n",
       "    </tr>\n",
       "    <tr>\n",
       "      <th>age_over_70</th>\n",
       "      <th></th>\n",
       "      <th></th>\n",
       "      <th></th>\n",
       "      <th></th>\n",
       "      <th></th>\n",
       "      <th></th>\n",
       "      <th></th>\n",
       "    </tr>\n",
       "  </thead>\n",
       "  <tbody>\n",
       "    <tr>\n",
       "      <th>no</th>\n",
       "      <td>0.145161</td>\n",
       "      <td>0.064516</td>\n",
       "      <td>0.241935</td>\n",
       "      <td>0.032258</td>\n",
       "      <td>0.080645</td>\n",
       "      <td>0.016129</td>\n",
       "      <td>0.580645</td>\n",
       "    </tr>\n",
       "    <tr>\n",
       "      <th>yes</th>\n",
       "      <td>0.129032</td>\n",
       "      <td>0.016129</td>\n",
       "      <td>0.064516</td>\n",
       "      <td>0.032258</td>\n",
       "      <td>0.096774</td>\n",
       "      <td>0.080645</td>\n",
       "      <td>0.419355</td>\n",
       "    </tr>\n",
       "    <tr>\n",
       "      <th>All</th>\n",
       "      <td>0.274194</td>\n",
       "      <td>0.080645</td>\n",
       "      <td>0.306452</td>\n",
       "      <td>0.064516</td>\n",
       "      <td>0.177419</td>\n",
       "      <td>0.096774</td>\n",
       "      <td>1.000000</td>\n",
       "    </tr>\n",
       "  </tbody>\n",
       "</table>\n",
       "</div>"
      ],
      "text/plain": [
       "calcification_type_left     Type1     Type2     Type3     Type4     Type5  \\\n",
       "age_over_70                                                                 \n",
       "no                       0.145161  0.064516  0.241935  0.032258  0.080645   \n",
       "yes                      0.129032  0.016129  0.064516  0.032258  0.096774   \n",
       "All                      0.274194  0.080645  0.306452  0.064516  0.177419   \n",
       "\n",
       "calcification_type_left     Type6       All  \n",
       "age_over_70                                  \n",
       "no                       0.016129  0.580645  \n",
       "yes                      0.080645  0.419355  \n",
       "All                      0.096774  1.000000  "
      ]
     },
     "execution_count": 69,
     "metadata": {},
     "output_type": "execute_result"
    }
   ],
   "source": [
    "symp_copy = symptomatic.copy()\n",
    "symp_copy[\"age_over_70\"] = symp_copy[\"age\"].apply(lambda v: \"yes\" if v > 70 else \"no\")\n",
    "pd.crosstab(symp_copy.age_over_70, symp_copy.calcification_type_left, margins=True, normalize=True)"
   ]
  },
  {
   "cell_type": "code",
   "execution_count": 70,
   "id": "d7ab11e7",
   "metadata": {},
   "outputs": [
    {
     "data": {
      "text/html": [
       "<div>\n",
       "<style scoped>\n",
       "    .dataframe tbody tr th:only-of-type {\n",
       "        vertical-align: middle;\n",
       "    }\n",
       "\n",
       "    .dataframe tbody tr th {\n",
       "        vertical-align: top;\n",
       "    }\n",
       "\n",
       "    .dataframe thead th {\n",
       "        text-align: right;\n",
       "    }\n",
       "</style>\n",
       "<table border=\"1\" class=\"dataframe\">\n",
       "  <thead>\n",
       "    <tr style=\"text-align: right;\">\n",
       "      <th>prs_either</th>\n",
       "      <th>no</th>\n",
       "      <th>yes</th>\n",
       "      <th>All</th>\n",
       "    </tr>\n",
       "    <tr>\n",
       "      <th>age_over_70</th>\n",
       "      <th></th>\n",
       "      <th></th>\n",
       "      <th></th>\n",
       "    </tr>\n",
       "  </thead>\n",
       "  <tbody>\n",
       "    <tr>\n",
       "      <th>no</th>\n",
       "      <td>0.387097</td>\n",
       "      <td>0.193548</td>\n",
       "      <td>0.580645</td>\n",
       "    </tr>\n",
       "    <tr>\n",
       "      <th>yes</th>\n",
       "      <td>0.290323</td>\n",
       "      <td>0.129032</td>\n",
       "      <td>0.419355</td>\n",
       "    </tr>\n",
       "    <tr>\n",
       "      <th>All</th>\n",
       "      <td>0.677419</td>\n",
       "      <td>0.322581</td>\n",
       "      <td>1.000000</td>\n",
       "    </tr>\n",
       "  </tbody>\n",
       "</table>\n",
       "</div>"
      ],
      "text/plain": [
       "prs_either         no       yes       All\n",
       "age_over_70                              \n",
       "no           0.387097  0.193548  0.580645\n",
       "yes          0.290323  0.129032  0.419355\n",
       "All          0.677419  0.322581  1.000000"
      ]
     },
     "execution_count": 70,
     "metadata": {},
     "output_type": "execute_result"
    }
   ],
   "source": [
    "pd.crosstab(symp_copy.age_over_70, symp_copy.prs_either, margins=True, normalize=True)"
   ]
  },
  {
   "cell_type": "code",
   "execution_count": 73,
   "id": "f962e190",
   "metadata": {},
   "outputs": [
    {
     "data": {
      "text/html": [
       "<div>\n",
       "<style scoped>\n",
       "    .dataframe tbody tr th:only-of-type {\n",
       "        vertical-align: middle;\n",
       "    }\n",
       "\n",
       "    .dataframe tbody tr th {\n",
       "        vertical-align: top;\n",
       "    }\n",
       "\n",
       "    .dataframe thead th {\n",
       "        text-align: right;\n",
       "    }\n",
       "</style>\n",
       "<table border=\"1\" class=\"dataframe\">\n",
       "  <thead>\n",
       "    <tr style=\"text-align: right;\">\n",
       "      <th></th>\n",
       "      <th>site</th>\n",
       "      <th>infarct_side</th>\n",
       "      <th>calcification_type_right</th>\n",
       "      <th>calcification_type_left</th>\n",
       "      <th>symptoms</th>\n",
       "      <th>stroke</th>\n",
       "      <th>TIA</th>\n",
       "      <th>hypertension</th>\n",
       "      <th>cad</th>\n",
       "      <th>smoker_status</th>\n",
       "      <th>age</th>\n",
       "      <th>gender</th>\n",
       "      <th>diabetes</th>\n",
       "      <th>hyperlipidemia</th>\n",
       "      <th>stenosis_right</th>\n",
       "      <th>stenosis_left</th>\n",
       "      <th>prs_either</th>\n",
       "      <th>calc_and_lipids</th>\n",
       "      <th>at_least_5_and_stenosis_either</th>\n",
       "    </tr>\n",
       "  </thead>\n",
       "  <tbody>\n",
       "    <tr>\n",
       "      <th>104</th>\n",
       "      <td>German106</td>\n",
       "      <td>left</td>\n",
       "      <td>Type5</td>\n",
       "      <td>Type4</td>\n",
       "      <td>yes</td>\n",
       "      <td>yes</td>\n",
       "      <td>no</td>\n",
       "      <td>yes</td>\n",
       "      <td>no</td>\n",
       "      <td>yes</td>\n",
       "      <td>69</td>\n",
       "      <td>female</td>\n",
       "      <td>yes</td>\n",
       "      <td>yes</td>\n",
       "      <td>78</td>\n",
       "      <td>56</td>\n",
       "      <td>no</td>\n",
       "      <td>yes</td>\n",
       "      <td>yes</td>\n",
       "    </tr>\n",
       "    <tr>\n",
       "      <th>108</th>\n",
       "      <td>German121</td>\n",
       "      <td>left</td>\n",
       "      <td>Type1</td>\n",
       "      <td>Type4</td>\n",
       "      <td>yes</td>\n",
       "      <td>no</td>\n",
       "      <td>yes</td>\n",
       "      <td>yes</td>\n",
       "      <td>no</td>\n",
       "      <td>no</td>\n",
       "      <td>83</td>\n",
       "      <td>female</td>\n",
       "      <td>no</td>\n",
       "      <td>yes</td>\n",
       "      <td>65</td>\n",
       "      <td>100</td>\n",
       "      <td>no</td>\n",
       "      <td>yes</td>\n",
       "      <td>no</td>\n",
       "    </tr>\n",
       "    <tr>\n",
       "      <th>119</th>\n",
       "      <td>German156</td>\n",
       "      <td>left</td>\n",
       "      <td>Type3</td>\n",
       "      <td>Type4</td>\n",
       "      <td>yes</td>\n",
       "      <td>yes</td>\n",
       "      <td>no</td>\n",
       "      <td>no</td>\n",
       "      <td>no</td>\n",
       "      <td>yes</td>\n",
       "      <td>78</td>\n",
       "      <td>male</td>\n",
       "      <td>no</td>\n",
       "      <td>yes</td>\n",
       "      <td>55</td>\n",
       "      <td>95</td>\n",
       "      <td>no</td>\n",
       "      <td>yes</td>\n",
       "      <td>no</td>\n",
       "    </tr>\n",
       "    <tr>\n",
       "      <th>143</th>\n",
       "      <td>German60</td>\n",
       "      <td>right</td>\n",
       "      <td>Type6</td>\n",
       "      <td>Type4</td>\n",
       "      <td>yes</td>\n",
       "      <td>yes</td>\n",
       "      <td>no</td>\n",
       "      <td>yes</td>\n",
       "      <td>yes</td>\n",
       "      <td>no</td>\n",
       "      <td>56</td>\n",
       "      <td>female</td>\n",
       "      <td>yes</td>\n",
       "      <td>no</td>\n",
       "      <td>25</td>\n",
       "      <td>54</td>\n",
       "      <td>yes</td>\n",
       "      <td>no</td>\n",
       "      <td>no</td>\n",
       "    </tr>\n",
       "  </tbody>\n",
       "</table>\n",
       "</div>"
      ],
      "text/plain": [
       "          site infarct_side calcification_type_right calcification_type_left  \\\n",
       "104  German106         left                    Type5                   Type4   \n",
       "108  German121         left                    Type1                   Type4   \n",
       "119  German156         left                    Type3                   Type4   \n",
       "143   German60        right                    Type6                   Type4   \n",
       "\n",
       "    symptoms stroke  TIA hypertension  cad smoker_status  age  gender  \\\n",
       "104      yes    yes   no          yes   no           yes   69  female   \n",
       "108      yes     no  yes          yes   no            no   83  female   \n",
       "119      yes    yes   no           no   no           yes   78    male   \n",
       "143      yes    yes   no          yes  yes            no   56  female   \n",
       "\n",
       "    diabetes hyperlipidemia  stenosis_right  stenosis_left prs_either  \\\n",
       "104      yes            yes              78             56         no   \n",
       "108       no            yes              65            100         no   \n",
       "119       no            yes              55             95         no   \n",
       "143      yes             no              25             54        yes   \n",
       "\n",
       "    calc_and_lipids at_least_5_and_stenosis_either  \n",
       "104             yes                            yes  \n",
       "108             yes                             no  \n",
       "119             yes                             no  \n",
       "143              no                             no  "
      ]
     },
     "execution_count": 73,
     "metadata": {},
     "output_type": "execute_result"
    }
   ],
   "source": [
    "symptomatic[symptomatic[\"calcification_type_left\"] == \"Type4\"]"
   ]
  },
  {
   "cell_type": "code",
   "execution_count": 31,
   "id": "b1eea65e",
   "metadata": {},
   "outputs": [
    {
     "data": {
      "text/plain": [
       "yes    43\n",
       "Name: symptoms, dtype: int64"
      ]
     },
     "execution_count": 31,
     "metadata": {},
     "output_type": "execute_result"
    }
   ],
   "source": [
    "symptomatic[symptomatic[\"calcification_type_left\"] == \"Type4\"][\"symptoms\"].value_counts()"
   ]
  },
  {
   "cell_type": "code",
   "execution_count": 34,
   "id": "9668734c",
   "metadata": {},
   "outputs": [
    {
     "data": {
      "text/plain": [
       "Type3    12\n",
       "Type5     8\n",
       "Type6     8\n",
       "Type4     7\n",
       "Type2     5\n",
       "Type1     3\n",
       "Name: calcification_type_right, dtype: int64"
      ]
     },
     "execution_count": 34,
     "metadata": {},
     "output_type": "execute_result"
    }
   ],
   "source": [
    "symptomatic[symptomatic[\"calcification_type_left\"] == \"Type4\"][\"calcification_type_right\"].value_counts(normalize=False)"
   ]
  },
  {
   "cell_type": "code",
   "execution_count": 72,
   "id": "3a963d78",
   "metadata": {},
   "outputs": [
    {
     "data": {
      "text/plain": [
       "<AxesSubplot:ylabel='Density'>"
      ]
     },
     "execution_count": 72,
     "metadata": {},
     "output_type": "execute_result"
    },
    {
     "data": {
      "image/png": "[encoded data removed]",
      "text/plain": [
       "<Figure size 432x288 with 1 Axes>"
      ]
     },
     "metadata": {
      "needs_background": "light"
     },
     "output_type": "display_data"
    }
   ],
   "source": [
    "symptomatic[\"stenosis_left\"].plot.kde()"
   ]
  },
  {
   "cell_type": "code",
   "execution_count": 36,
   "id": "2c2d7b15",
   "metadata": {},
   "outputs": [
    {
     "data": {
      "text/plain": [
       "count    790.000000\n",
       "mean      69.741772\n",
       "std       13.980038\n",
       "min       23.000000\n",
       "25%       61.000000\n",
       "50%       72.000000\n",
       "75%       80.000000\n",
       "max      102.000000\n",
       "Name: age, dtype: float64"
      ]
     },
     "execution_count": 36,
     "metadata": {},
     "output_type": "execute_result"
    }
   ],
   "source": [
    "train.age.describe()"
   ]
  },
  {
   "cell_type": "code",
   "execution_count": 41,
   "id": "4e949b75",
   "metadata": {},
   "outputs": [
    {
     "data": {
      "text/plain": [
       "no     0.610063\n",
       "yes    0.389937\n",
       "Name: symptoms, dtype: float64"
      ]
     },
     "execution_count": 41,
     "metadata": {},
     "output_type": "execute_result"
    }
   ],
   "source": [
    "valid.symptoms.value_counts(normalize=True)"
   ]
  },
  {
   "cell_type": "code",
   "execution_count": 42,
   "id": "2f610068",
   "metadata": {},
   "outputs": [
    {
     "data": {
      "text/plain": [
       "Index(['site', 'patient_ID', 'infarct_side', 'calcification_type_right',\n",
       "       'calcification_type_left', 'symptoms', 'stroke', 'TIA', 'hypertension',\n",
       "       'cad', 'smoker_status', 'age', 'gender', 'diabetes', 'hyperlipidemia',\n",
       "       'stenosis_right', 'stenosis_left', 'prs_either', 'calc_and_lipids',\n",
       "       'at_least_5_and_stenosis_either'],\n",
       "      dtype='object')"
      ]
     },
     "execution_count": 42,
     "metadata": {},
     "output_type": "execute_result"
    }
   ],
   "source": [
    "train.columns"
   ]
  },
  {
   "cell_type": "markdown",
   "id": "9c5608a3",
   "metadata": {},
   "source": [
    "# OLD"
   ]
  },
  {
   "cell_type": "code",
   "execution_count": 7,
   "id": "f10a15db",
   "metadata": {},
   "outputs": [],
   "source": [
    "df = pd.read_csv('../input/calcifications.csv')"
   ]
  },
  {
   "cell_type": "code",
   "execution_count": 3,
   "id": "efecd732",
   "metadata": {},
   "outputs": [],
   "source": [
    "df[\"smoker_status\"] = df[\"smoker_status\"].apply(lambda v: \"no\" if v == \"no\" else \"yes\") \n",
    "df[\"calcification_type_left\"] = df[\"calcification_type_left\"].apply(lambda v: v.replace(\" \", \"\"))\n",
    "df[\"calcification_type_right\"] = df[\"calcification_type_right\"].apply(lambda v: v.replace(\" \", \"\"))"
   ]
  },
  {
   "cell_type": "code",
   "execution_count": 4,
   "id": "d28d747f",
   "metadata": {},
   "outputs": [],
   "source": [
    "df.drop(\"Unnamed: 0\", axis=1, errors=\"ignore\", inplace=True)"
   ]
  },
  {
   "cell_type": "code",
   "execution_count": 19,
   "id": "6bb7afa5",
   "metadata": {},
   "outputs": [],
   "source": [
    "def positive_rim_sign(left, right):\n",
    "    \"\"\"\n",
    "    True if either left or right has type 5 calcification (positive rim sign)\n",
    "    \"\"\"\n",
    "    return 1 if (left == \"Type5\" or right == \"Type5\") else 0"
   ]
  },
  {
   "cell_type": "code",
   "execution_count": 20,
   "id": "3b73b953",
   "metadata": {},
   "outputs": [],
   "source": [
    "def calc(left, right):\n",
    "    \"\"\"\n",
    "    True if either left or right carotid artery has some type of calcification\n",
    "    \"\"\"\n",
    "    return 0 if left == \"Type0\" and right == \"Type0\" else 1"
   ]
  },
  {
   "cell_type": "code",
   "execution_count": 21,
   "id": "491fa195",
   "metadata": {},
   "outputs": [],
   "source": [
    "def at_least_4_and_high_stenosis(calc_left, calc_right, sten_left, sten_right):\n",
    "    \"\"\"True if calcification type in both sides is at least 4 and stenosis is at least 35 on the left\n",
    "    and 25 on the right\n",
    "    \"\"\"\n",
    "    return 1 if ((calc_left in [\"Type4\", \"Type5\"] and sten_left >= 35) or \n",
    "                 (calc_right in [\"Type4\", \"Type5\"] and sten_right >= 25)) else 0"
   ]
  },
  {
   "cell_type": "code",
   "execution_count": 61,
   "id": "ec43d4a9",
   "metadata": {},
   "outputs": [],
   "source": [
    "df['prs'] = df.apply(lambda x: positive_rim_sign(x['calcification_type_left'], x['calcification_type_right']), axis=1)\n",
    "df['calcification'] = df.apply(lambda x: calc(x['calcification_type_left'], x['calcification_type_right']), axis=1)\n",
    "df['at_least_4'] = df.apply(lambda x: at_least_4_and_high_stenosis(x['calcification_type_left'], \n",
    "                                                 x['calcification_type_right'],\n",
    "                                                 x['stenosis_left'],\n",
    "                                                 x['stenosis_right']), axis=1)"
   ]
  },
  {
   "cell_type": "code",
   "execution_count": 34,
   "id": "d6dc8d92",
   "metadata": {},
   "outputs": [
    {
     "data": {
      "text/plain": [
       "stenosis_left     37.500\n",
       "stenosis_right    29.285\n",
       "dtype: float64"
      ]
     },
     "execution_count": 34,
     "metadata": {},
     "output_type": "execute_result"
    }
   ],
   "source": [
    "df[(df[\"symptoms\"] == \"yes\") &\n",
    "  (df[\"calcification_type_left\"].isin([\"Type4\", \"Type5\"])) &\n",
    "  (df[\"calcification_type_right\"].isin([\"Type4\", \"Type5\"]))][[\"stenosis_left\", \"stenosis_right\"]].median()"
   ]
  },
  {
   "cell_type": "code",
   "execution_count": 62,
   "id": "e03d483a",
   "metadata": {},
   "outputs": [
    {
     "data": {
      "text/plain": [
       "0    669\n",
       "1    121\n",
       "Name: at_least_4, dtype: int64"
      ]
     },
     "execution_count": 62,
     "metadata": {},
     "output_type": "execute_result"
    }
   ],
   "source": [
    "df[\"at_least_4\"].value_counts()"
   ]
  },
  {
   "cell_type": "code",
   "execution_count": 63,
   "id": "88671c0a",
   "metadata": {},
   "outputs": [],
   "source": [
    "df.to_csv(\"../input/calcifications.csv\", index=False)"
   ]
  },
  {
   "cell_type": "code",
   "execution_count": 114,
   "id": "277ab8f7",
   "metadata": {},
   "outputs": [],
   "source": [
    "SEED = 1303"
   ]
  },
  {
   "cell_type": "code",
   "execution_count": 42,
   "id": "bbfbc179",
   "metadata": {},
   "outputs": [
    {
     "data": {
      "text/plain": [
       "0    669\n",
       "1    121\n",
       "Name: prs, dtype: int64"
      ]
     },
     "execution_count": 42,
     "metadata": {},
     "output_type": "execute_result"
    }
   ],
   "source": [
    "df.prs.value_counts()"
   ]
  },
  {
   "cell_type": "code",
   "execution_count": 43,
   "id": "474dd99f",
   "metadata": {},
   "outputs": [],
   "source": [
    "def positive_rim_sign(left, right):\n",
    "    \"\"\"\n",
    "    True if either left or right has type 5 calcification (positive rim sign)\n",
    "    \"\"\"\n",
    "    return 1 if (left == \"Type6\" or right == \"Type6\") else 0\n",
    "\n",
    "df['prs_bis'] = df.apply(lambda x: positive_rim_sign(x['calcification_type_left'], x['calcification_type_right']), axis=1)"
   ]
  },
  {
   "cell_type": "code",
   "execution_count": 44,
   "id": "ba99e7cd",
   "metadata": {},
   "outputs": [
    {
     "data": {
      "text/plain": [
       "0    698\n",
       "1     92\n",
       "Name: prs_bis, dtype: int64"
      ]
     },
     "execution_count": 44,
     "metadata": {},
     "output_type": "execute_result"
    }
   ],
   "source": [
    "df.prs_bis.value_counts()"
   ]
  },
  {
   "cell_type": "markdown",
   "id": "04c210f0",
   "metadata": {},
   "source": [
    "# Preprocess German Validation Set"
   ]
  },
  {
   "cell_type": "code",
   "execution_count": null,
   "id": "9fd415de",
   "metadata": {},
   "outputs": [],
   "source": [
    "def calc_bis(left, right):\n",
    "    \"\"\"\n",
    "    True if either left or right carotid artery has some type of calcification\n",
    "    \"\"\"\n",
    "    return 0 if left == \"Type1\" and right == \"Type1\" else 1"
   ]
  },
  {
   "cell_type": "code",
   "execution_count": 37,
   "id": "4afd6cb4",
   "metadata": {},
   "outputs": [],
   "source": [
    "test = pd.read_excel('../input/EXCEL/test.xlsx')"
   ]
  },
  {
   "cell_type": "code",
   "execution_count": 38,
   "id": "cc222710",
   "metadata": {},
   "outputs": [],
   "source": [
    "test[\"smoker_status\"] = test[\"smoker_status\"].apply(lambda v: \"no\" if v == \"no\" else \"yes\") \n",
    "test[\"calcification_type_left\"] = test[\"calcification_type_left\"].apply(lambda v: v.replace(\" \", \"\"))\n",
    "test[\"calcification_type_right\"] = test[\"calcification_type_right\"].apply(lambda v: v.replace(\" \", \"\"))"
   ]
  },
  {
   "cell_type": "code",
   "execution_count": 39,
   "id": "80a790df",
   "metadata": {},
   "outputs": [
    {
     "data": {
      "text/plain": [
       "0      Type1\n",
       "1      Type1\n",
       "2      Type1\n",
       "3      Type2\n",
       "4      Type1\n",
       "       ...  \n",
       "154    Type3\n",
       "155    Type2\n",
       "156    Type5\n",
       "157    Type1\n",
       "158    Type6\n",
       "Name: calcification_type_left, Length: 159, dtype: object"
      ]
     },
     "execution_count": 39,
     "metadata": {},
     "output_type": "execute_result"
    }
   ],
   "source": [
    "test.calcification_type_left"
   ]
  },
  {
   "cell_type": "code",
   "execution_count": 35,
   "id": "43954b9b",
   "metadata": {},
   "outputs": [],
   "source": [
    "test['prs'] = test.apply(lambda x: positive_rim_sign(x['calcification_type_left'], x['calcification_type_right']), axis=1)\n",
    "test['calcification'] = test.apply(lambda x: calc(x['calcification_type_left'], x['calcification_type_right']), axis=1)\n",
    "test['at_least_4'] = test.apply(lambda x: at_least_4_and_high_stenosis(x['calcification_type_left'], \n",
    "                                                 x['calcification_type_right'],\n",
    "                                                 x['stenosis_left'],\n",
    "                                                 x['stenosis_right']), axis=1)"
   ]
  },
  {
   "cell_type": "code",
   "execution_count": 36,
   "id": "63bbfc4f",
   "metadata": {},
   "outputs": [],
   "source": [
    "test.to_csv('../input/test.csv', index=False)"
   ]
  },
  {
   "cell_type": "markdown",
   "id": "cc08f397",
   "metadata": {},
   "source": [
    "# Preprocessing"
   ]
  },
  {
   "cell_type": "code",
   "execution_count": 115,
   "id": "b68414b8",
   "metadata": {},
   "outputs": [],
   "source": [
    "TO_DROP = [\"site\", \"patient_ID\", \"infarct_side\", \"stroke\", \"tabulator\"]\n",
    "TO_SCALE = [\"age\", \"stenosis_left\", \"stenosis_right\"]\n",
    "TO_LABEL_ENCODE = [\"TIA\", \"hypertension\", \"cad\", \"gender\", \"diabetes\", \"hyperlipidemia\", \"smoker_status\"]\n",
    "TO_OHE = [\"calcification_type_left\", \"calcification_type_right\"]\n",
    "PREFIXES = [\"calcification_left\", \"calcification_right\"]\n",
    "TARGET = \"symptoms\""
   ]
  },
  {
   "cell_type": "code",
   "execution_count": 116,
   "id": "be616f07",
   "metadata": {},
   "outputs": [],
   "source": [
    "df = df.drop(TO_DROP, axis=1)"
   ]
  },
  {
   "cell_type": "code",
   "execution_count": 117,
   "id": "c99472cf",
   "metadata": {
    "scrolled": true
   },
   "outputs": [],
   "source": [
    "X = df.drop(TARGET, axis=1)\n",
    "y = df.symptoms\n",
    "X_train, X_test, y_train, y_test = train_test_split(X, y, \n",
    "                                                    test_size=0.2, \n",
    "                                                    random_state=SEED, \n",
    "                                                    stratify=y)"
   ]
  },
  {
   "cell_type": "markdown",
   "id": "1ff840c7",
   "metadata": {},
   "source": [
    "## Training set"
   ]
  },
  {
   "cell_type": "code",
   "execution_count": 8,
   "id": "6a9f5a89",
   "metadata": {},
   "outputs": [],
   "source": [
    "# Label encoding for the target\n",
    "le = LabelEncoder()\n",
    "y_train = le.fit_transform(y_train)"
   ]
  },
  {
   "cell_type": "code",
   "execution_count": 9,
   "id": "ae8addae",
   "metadata": {},
   "outputs": [],
   "source": [
    "# Ordinal encoding for categorical binary features\n",
    "oe = OrdinalEncoder()\n",
    "X_train[TO_LABEL_ENCODE] = oe.fit_transform(X_train[TO_LABEL_ENCODE]).astype(np.uint8)"
   ]
  },
  {
   "cell_type": "code",
   "execution_count": 66,
   "id": "ba8bd2f4",
   "metadata": {},
   "outputs": [],
   "source": [
    "# One-hot encoding for categorical features with > 2 levels\n",
    "X_train = pd.get_dummies(X_train, columns=TO_OHE, prefix=PREFIXES)"
   ]
  },
  {
   "cell_type": "code",
   "execution_count": 69,
   "id": "b885885e",
   "metadata": {},
   "outputs": [],
   "source": [
    "# Scale numeric columns\n",
    "scaler = StandardScaler()\n",
    "X_train[TO_SCALE] = scaler.fit_transform(X_train[TO_SCALE])"
   ]
  },
  {
   "cell_type": "markdown",
   "id": "0c5a6c42",
   "metadata": {},
   "source": [
    "## Test set"
   ]
  },
  {
   "cell_type": "code",
   "execution_count": 70,
   "id": "0dfdd045",
   "metadata": {},
   "outputs": [],
   "source": [
    "y_test = le.transform(y_test)\n",
    "X_test[TO_LABEL_ENCODE] = oe.transform(X_test[TO_LABEL_ENCODE]).astype(np.uint8)\n",
    "X_test = pd.get_dummies(X_test, columns=TO_OHE, prefix=PREFIXES)\n",
    "X_test[TO_SCALE] = scaler.transform(X_test[TO_SCALE])"
   ]
  },
  {
   "cell_type": "markdown",
   "id": "2778e14e",
   "metadata": {},
   "source": [
    "## Add targets to design matrices"
   ]
  },
  {
   "cell_type": "code",
   "execution_count": 76,
   "id": "26be1e8c",
   "metadata": {},
   "outputs": [],
   "source": [
    "X_train[TARGET] = y_train\n",
    "X_test[TARGET] = y_test"
   ]
  },
  {
   "cell_type": "code",
   "execution_count": 79,
   "id": "881965ef",
   "metadata": {},
   "outputs": [],
   "source": [
    "X_train.to_csv('../input/train.csv', index=False)\n",
    "X_test.to_csv('../input/test.csv', index=False)"
   ]
  },
  {
   "cell_type": "markdown",
   "id": "fd10e4cc",
   "metadata": {},
   "source": [
    "# No one-hot encoding"
   ]
  },
  {
   "cell_type": "code",
   "execution_count": 118,
   "id": "effb3f63",
   "metadata": {},
   "outputs": [],
   "source": [
    "TO_DROP = [\"site\", \"patient_ID\", \"infarct_side\", \"stroke\", \"tabulator\"]\n",
    "TO_SCALE = [\"age\", \"stenosis_left\", \"stenosis_right\"]\n",
    "TO_LABEL_ENCODE = [\"TIA\", \"hypertension\", \"cad\", \"gender\", \n",
    "                   \"diabetes\", \"hyperlipidemia\", \"smoker_status\",\n",
    "                  \"calcification_type_left\", \"calcification_type_right\"]\n",
    "PREFIXES = [\"calcification_left\", \"calcification_right\"]\n",
    "TARGET = \"symptoms\""
   ]
  },
  {
   "cell_type": "code",
   "execution_count": 119,
   "id": "29e747e4",
   "metadata": {},
   "outputs": [],
   "source": [
    "# Label encoding for the target\n",
    "le = LabelEncoder()\n",
    "y_train = le.fit_transform(y_train)"
   ]
  },
  {
   "cell_type": "code",
   "execution_count": 120,
   "id": "5ed2a120",
   "metadata": {},
   "outputs": [],
   "source": [
    "# Ordinal encoding for categorical binary features\n",
    "oe = OrdinalEncoder()\n",
    "X_train[TO_LABEL_ENCODE] = oe.fit_transform(X_train[TO_LABEL_ENCODE]).astype(np.uint8)"
   ]
  },
  {
   "cell_type": "code",
   "execution_count": 41,
   "id": "3eb69161",
   "metadata": {},
   "outputs": [],
   "source": [
    "# Scale numeric columns\n",
    "scaler = StandardScaler()\n",
    "X_train[TO_SCALE] = scaler.fit_transform(X_train[TO_SCALE])\n",
    "X_test[TO_SCALE] = scaler.transform(X_test[TO_SCALE])"
   ]
  },
  {
   "cell_type": "code",
   "execution_count": 121,
   "id": "f07c7dba",
   "metadata": {},
   "outputs": [],
   "source": [
    "y_test = le.transform(y_test)\n",
    "X_test[TO_LABEL_ENCODE] = oe.transform(X_test[TO_LABEL_ENCODE]).astype(np.uint8)"
   ]
  },
  {
   "cell_type": "code",
   "execution_count": 28,
   "id": "4db13090",
   "metadata": {},
   "outputs": [],
   "source": [
    "X_train[TARGET] = y_train\n",
    "X_test[TARGET] = y_test\n",
    "X_train.to_csv('../input/train_no_ohe.csv', index=False)\n",
    "X_test.to_csv('../input/test_no_ohe.csv', index=False)"
   ]
  },
  {
   "cell_type": "markdown",
   "id": "31a7cd94",
   "metadata": {},
   "source": [
    "## Experiment with feature engineering"
   ]
  },
  {
   "cell_type": "code",
   "execution_count": 122,
   "id": "f0a50803",
   "metadata": {},
   "outputs": [],
   "source": [
    "def positive_rim_sign(left, right):\n",
    "    return 1 if (left == 5.0 or right == 5.0) else 0\n",
    "    \n",
    "X_train['prs'] = X_train.apply(lambda x: positive_rim_sign(x['calcification_type_left'], x['calcification_type_right']), axis=1)\n",
    "X_test['prs'] = X_test.apply(lambda x: positive_rim_sign(x['calcification_type_left'], x['calcification_type_right']), axis=1)"
   ]
  },
  {
   "cell_type": "code",
   "execution_count": 124,
   "id": "91b79c9b",
   "metadata": {},
   "outputs": [],
   "source": [
    "def calc(left, right):\n",
    "    return 0 if left == 0.0 and right == 0.0 else 1\n",
    "    \n",
    "X_train['calcification'] = X_train.apply(lambda x: calc(x['calcification_type_left'], x['calcification_type_right']), axis=1)\n",
    "X_test['calcification'] = X_test.apply(lambda x: calc(x['calcification_type_left'], x['calcification_type_right']), axis=1)"
   ]
  },
  {
   "cell_type": "code",
   "execution_count": 127,
   "id": "4c7e974c",
   "metadata": {},
   "outputs": [],
   "source": [
    "X_train[TARGET] = y_train\n",
    "X_test[TARGET] = y_test\n",
    "X_train.to_csv('../input/train_no_ohe_new_feat.csv', index=False)\n",
    "X_test.to_csv('../input/test_no_ohe_new_feat.csv', index=False)"
   ]
  },
  {
   "cell_type": "code",
   "execution_count": null,
   "id": "ba1da832",
   "metadata": {},
   "outputs": [],
   "source": []
  },
  {
   "cell_type": "code",
   "execution_count": null,
   "id": "73c57559",
   "metadata": {},
   "outputs": [],
   "source": []
  },
  {
   "cell_type": "code",
   "execution_count": null,
   "id": "fb8677fc",
   "metadata": {},
   "outputs": [],
   "source": []
  },
  {
   "cell_type": "code",
   "execution_count": null,
   "id": "847c5750",
   "metadata": {},
   "outputs": [],
   "source": []
  },
  {
   "cell_type": "code",
   "execution_count": 84,
   "id": "bf2d05b7",
   "metadata": {},
   "outputs": [],
   "source": [
    "import optuna\n",
    "from optuna.integration import OptunaSearchCV\n",
    "from sklearn.linear_model import LogisticRegression\n",
    "from sklearn.model_selection import StratifiedKFold, RepeatedStratifiedKFold\n",
    "from sklearn.preprocessing import LabelEncoder, OrdinalEncoder"
   ]
  },
  {
   "cell_type": "code",
   "execution_count": 79,
   "id": "0b89f0f8",
   "metadata": {},
   "outputs": [],
   "source": [
    "params = {\n",
    "        \"fixed\": {\n",
    "            'class_weight': 'balanced',\n",
    "            'verbose': 0,\n",
    "            'random_state': 1234,\n",
    "            'solver': 'liblinear',\n",
    "            'n_jobs': 1,\n",
    "            'max_iter': 200\n",
    "        },\n",
    "        \"space\": {\n",
    "            'penalty': optuna.distributions.CategoricalDistribution(['l1', 'l2']),\n",
    "            'C': optuna.distributions.UniformDistribution(0.1, 5)\n",
    "        }\n",
    "    }"
   ]
  },
  {
   "cell_type": "code",
   "execution_count": 80,
   "id": "5531b099",
   "metadata": {},
   "outputs": [],
   "source": [
    "lr = LogisticRegression(**params[\"fixed\"])"
   ]
  },
  {
   "cell_type": "code",
   "execution_count": 83,
   "id": "36cb388b",
   "metadata": {},
   "outputs": [],
   "source": [
    "inner_cv = StratifiedKFold(n_splits=5, random_state=1234, shuffle=True)\n",
    "outer_cv = RepeatedStratifiedKFold(n_repeats=1, n_splits=10, random_state=1234)"
   ]
  },
  {
   "cell_type": "code",
   "execution_count": 85,
   "id": "2779d49b",
   "metadata": {},
   "outputs": [],
   "source": [
    "def load_preprocess(which: str = \"train\"):\n",
    "    data_path = \"../input/train.csv\"\n",
    "    TO_DROP = [\"site\", \"patient_ID\", \"infarct_side\", \"stroke\"]\n",
    "    TARGET = \"symptoms\"\n",
    "    TO_LABEL_ENCODE = [\"TIA\", \"hypertension\", \"cad\", \"gender\",\n",
    "                           \"diabetes\", \"hyperlipidemia\", \"smoker_status\",\n",
    "                           \"prs_either\", 'calc_and_lipids', 'at_least_5_and_stenosis_either']\n",
    "    APPLY_OHE = True\n",
    "    TO_OHE = [\"calcification_type_left\", \"calcification_type_right\"]\n",
    "    PREFIXES = [\"calcification_left\", \"calcification_right\"]\n",
    "    \n",
    "    df = pd.read_csv(data_path)\n",
    "    df = df.drop(TO_DROP, axis=1, errors=\"ignore\")\n",
    "    X, y = df.drop(TARGET, axis=1), df[TARGET]\n",
    "\n",
    "    if \"smoker_status\" in X.columns:\n",
    "        X[\"smoker_status\"] = X[\"smoker_status\"].apply(lambda v: \"no\" if v == \"no\" else \"yes\")\n",
    "    if \"calcification_type_left\" in X.columns:\n",
    "        X[\"calcification_type_left\"] = X[\"calcification_type_left\"].apply(lambda v: v.replace(\" \", \"\"))\n",
    "    if \"calcification_type_right\" in X.columns:\n",
    "        X[\"calcification_type_right\"] = X[\"calcification_type_right\"].apply(lambda v: v.replace(\" \", \"\"))\n",
    "\n",
    "    le = LabelEncoder()\n",
    "    oe = OrdinalEncoder()\n",
    "\n",
    "    to_encode = TO_LABEL_ENCODE\n",
    "    if APPLY_OHE:\n",
    "        X = pd.get_dummies(X, columns=TO_OHE, prefix=PREFIXES)\n",
    "    else:\n",
    "        to_encode += TO_OHE\n",
    "\n",
    "    y = le.fit_transform(y)\n",
    "    X[to_encode] = oe.fit_transform(X[to_encode]).astype(np.uint8)\n",
    "\n",
    "    # convert uint8 dtypes to categorical\n",
    "    cat_cols = X.select_dtypes(include=np.uint8).columns.tolist()\n",
    "    X[cat_cols] = X[cat_cols].astype(\"category\")\n",
    "\n",
    "    return X, y\n",
    "\n",
    "X, y = load_preprocess(which=\"train\")"
   ]
  },
  {
   "cell_type": "code",
   "execution_count": null,
   "id": "59906ebf",
   "metadata": {},
   "outputs": [],
   "source": []
  },
  {
   "cell_type": "code",
   "execution_count": 92,
   "id": "b940fe94",
   "metadata": {},
   "outputs": [
    {
     "name": "stderr",
     "output_type": "stream",
     "text": [
      "/var/folders/1p/1ck1ggqs5jg_wdfpm41gx6dr0000gn/T/ipykernel_3191/1904576403.py:1: ExperimentalWarning: OptunaSearchCV is experimental (supported from v0.17.0). The interface can change in the future.\n",
      "  opt_search = OptunaSearchCV(estimator=lr,\n",
      "\u001b[32m[I 2022-06-06 11:28:32,451]\u001b[0m A new study created in memory with name: no-name-f6388564-c4d9-4e51-ab37-d08a2ff5a539\u001b[0m\n",
      "\u001b[32m[I 2022-06-06 11:28:32,452]\u001b[0m Searching the best hyperparameters using 790 samples...\u001b[0m\n",
      "\u001b[32m[I 2022-06-06 11:28:32,486]\u001b[0m Trial 0 finished with value: 0.6590226749897458 and parameters: {'penalty': 'l1', 'C': 0.12978128546210912}. Best is trial 0 with value: 0.6590226749897458.\u001b[0m\n",
      "\u001b[32m[I 2022-06-06 11:28:32,526]\u001b[0m Trial 1 finished with value: 0.6635898132051153 and parameters: {'penalty': 'l1', 'C': 1.2833924324677781}. Best is trial 1 with value: 0.6635898132051153.\u001b[0m\n",
      "\u001b[32m[I 2022-06-06 11:28:32,556]\u001b[0m Trial 2 finished with value: 0.6603458267100483 and parameters: {'penalty': 'l2', 'C': 4.878083941423857}. Best is trial 1 with value: 0.6635898132051153.\u001b[0m\n",
      "\u001b[32m[I 2022-06-06 11:28:32,595]\u001b[0m Trial 3 finished with value: 0.6613237556617226 and parameters: {'penalty': 'l1', 'C': 3.555629323965718}. Best is trial 1 with value: 0.6635898132051153.\u001b[0m\n",
      "\u001b[32m[I 2022-06-06 11:28:32,620]\u001b[0m Trial 4 finished with value: 0.6617135624442586 and parameters: {'penalty': 'l2', 'C': 0.4475818593079126}. Best is trial 1 with value: 0.6635898132051153.\u001b[0m\n",
      "\u001b[32m[I 2022-06-06 11:28:32,644]\u001b[0m Trial 5 finished with value: 0.6661203824938001 and parameters: {'penalty': 'l1', 'C': 0.3108707294015959}. Best is trial 5 with value: 0.6661203824938001.\u001b[0m\n",
      "\u001b[32m[I 2022-06-06 11:28:32,670]\u001b[0m Trial 6 finished with value: 0.6608693946572897 and parameters: {'penalty': 'l2', 'C': 2.1694651558488602}. Best is trial 5 with value: 0.6661203824938001.\u001b[0m\n",
      "\u001b[32m[I 2022-06-06 11:28:32,697]\u001b[0m Trial 7 finished with value: 0.6603458267100483 and parameters: {'penalty': 'l2', 'C': 4.654562927505408}. Best is trial 5 with value: 0.6661203824938001.\u001b[0m\n",
      "\u001b[32m[I 2022-06-06 11:28:32,738]\u001b[0m Trial 8 finished with value: 0.6615680326325424 and parameters: {'penalty': 'l1', 'C': 3.222541217547599}. Best is trial 5 with value: 0.6661203824938001.\u001b[0m\n",
      "\u001b[32m[I 2022-06-06 11:28:32,762]\u001b[0m Trial 9 finished with value: 0.6623005807325536 and parameters: {'penalty': 'l1', 'C': 0.1560087811578557}. Best is trial 5 with value: 0.6661203824938001.\u001b[0m\n",
      "\u001b[32m[I 2022-06-06 11:28:32,801]\u001b[0m Trial 10 finished with value: 0.663169371448423 and parameters: {'penalty': 'l1', 'C': 1.6190647889306544}. Best is trial 5 with value: 0.6661203824938001.\u001b[0m\n",
      "\u001b[32m[I 2022-06-06 11:28:32,839]\u001b[0m Trial 11 finished with value: 0.6635898132051153 and parameters: {'penalty': 'l1', 'C': 1.3234793847823503}. Best is trial 5 with value: 0.6661203824938001.\u001b[0m\n",
      "\u001b[32m[I 2022-06-06 11:28:32,873]\u001b[0m Trial 12 finished with value: 0.6629948487993426 and parameters: {'penalty': 'l1', 'C': 0.8558978540461687}. Best is trial 5 with value: 0.6661203824938001.\u001b[0m\n",
      "\u001b[32m[I 2022-06-06 11:28:32,909]\u001b[0m Trial 13 finished with value: 0.6635900868945808 and parameters: {'penalty': 'l1', 'C': 1.4448455749849702}. Best is trial 5 with value: 0.6661203824938001.\u001b[0m\n",
      "\u001b[32m[I 2022-06-06 11:28:32,946]\u001b[0m Trial 14 finished with value: 0.662300042476605 and parameters: {'penalty': 'l1', 'C': 2.178071979888042}. Best is trial 5 with value: 0.6661203824938001.\u001b[0m\n",
      "\u001b[32m[I 2022-06-06 11:28:32,979]\u001b[0m Trial 15 finished with value: 0.6628567086031911 and parameters: {'penalty': 'l1', 'C': 0.8311397784519272}. Best is trial 5 with value: 0.6661203824938001.\u001b[0m\n",
      "\u001b[32m[I 2022-06-06 11:28:33,017]\u001b[0m Trial 16 finished with value: 0.6630659715684085 and parameters: {'penalty': 'l1', 'C': 1.8135264802765527}. Best is trial 5 with value: 0.6661203824938001.\u001b[0m\n",
      "\u001b[32m[I 2022-06-06 11:28:33,056]\u001b[0m Trial 17 finished with value: 0.6619868322524425 and parameters: {'penalty': 'l1', 'C': 2.7209983654370644}. Best is trial 5 with value: 0.6661203824938001.\u001b[0m\n",
      "\u001b[32m[I 2022-06-06 11:28:33,086]\u001b[0m Trial 18 finished with value: 0.6614665485787853 and parameters: {'penalty': 'l2', 'C': 0.8112519246760544}. Best is trial 5 with value: 0.6661203824938001.\u001b[0m\n",
      "\u001b[32m[I 2022-06-06 11:28:33,121]\u001b[0m Trial 19 finished with value: 0.6635370185072466 and parameters: {'penalty': 'l1', 'C': 1.1259687140912518}. Best is trial 5 with value: 0.6661203824938001.\u001b[0m\n",
      "\u001b[32m[I 2022-06-06 11:28:33,162]\u001b[0m Trial 20 finished with value: 0.6620215725685794 and parameters: {'penalty': 'l1', 'C': 2.4991034328842754}. Best is trial 5 with value: 0.6661203824938001.\u001b[0m\n",
      "\u001b[32m[I 2022-06-06 11:28:33,202]\u001b[0m Trial 21 finished with value: 0.6636951289113874 and parameters: {'penalty': 'l1', 'C': 1.3812464021730924}. Best is trial 5 with value: 0.6661203824938001.\u001b[0m\n",
      "\u001b[32m[I 2022-06-06 11:28:33,240]\u001b[0m Trial 22 finished with value: 0.6630659715684085 and parameters: {'penalty': 'l1', 'C': 1.7988971474889457}. Best is trial 5 with value: 0.6661203824938001.\u001b[0m\n",
      "\u001b[32m[I 2022-06-06 11:28:33,271]\u001b[0m Trial 23 finished with value: 0.6627158315123861 and parameters: {'penalty': 'l1', 'C': 0.5744644059622332}. Best is trial 5 with value: 0.6661203824938001.\u001b[0m\n",
      "\u001b[32m[I 2022-06-06 11:28:33,307]\u001b[0m Trial 24 finished with value: 0.6635550728889784 and parameters: {'penalty': 'l1', 'C': 1.4491242006959077}. Best is trial 5 with value: 0.6661203824938001.\u001b[0m\n",
      "\u001b[32m[I 2022-06-06 11:28:33,345]\u001b[0m Trial 25 finished with value: 0.6623003161660703 and parameters: {'penalty': 'l1', 'C': 2.1208507034997415}. Best is trial 5 with value: 0.6661203824938001.\u001b[0m\n",
      "\u001b[32m[I 2022-06-06 11:28:33,373]\u001b[0m Trial 26 finished with value: 0.6606601316920724 and parameters: {'penalty': 'l2', 'C': 3.0473195006007625}. Best is trial 5 with value: 0.6661203824938001.\u001b[0m\n",
      "\u001b[32m[I 2022-06-06 11:28:33,412]\u001b[0m Trial 27 finished with value: 0.6612542750294489 and parameters: {'penalty': 'l1', 'C': 4.040829203251855}. Best is trial 5 with value: 0.6661203824938001.\u001b[0m\n",
      "\u001b[32m[I 2022-06-06 11:28:33,442]\u001b[0m Trial 28 finished with value: 0.6638327217286081 and parameters: {'penalty': 'l1', 'C': 0.4637552404379526}. Best is trial 5 with value: 0.6661203824938001.\u001b[0m\n",
      "\u001b[32m[I 2022-06-06 11:28:33,470]\u001b[0m Trial 29 finished with value: 0.6658137408168061 and parameters: {'penalty': 'l1', 'C': 0.366343437547062}. Best is trial 5 with value: 0.6661203824938001.\u001b[0m\n",
      "\u001b[32m[I 2022-06-06 11:28:33,495]\u001b[0m Trial 30 finished with value: 0.6561295127743646 and parameters: {'penalty': 'l1', 'C': 0.11355996866585533}. Best is trial 5 with value: 0.6661203824938001.\u001b[0m\n",
      "\u001b[32m[I 2022-06-06 11:28:33,523]\u001b[0m Trial 31 finished with value: 0.6637268586434052 and parameters: {'penalty': 'l1', 'C': 0.4501749141657003}. Best is trial 5 with value: 0.6661203824938001.\u001b[0m\n",
      "\u001b[32m[I 2022-06-06 11:28:33,553]\u001b[0m Trial 32 finished with value: 0.6636921183272684 and parameters: {'penalty': 'l1', 'C': 0.4409804603346633}. Best is trial 5 with value: 0.6661203824938001.\u001b[0m\n",
      "\u001b[32m[I 2022-06-06 11:28:33,588]\u001b[0m Trial 33 finished with value: 0.6632380310123007 and parameters: {'penalty': 'l1', 'C': 1.01769847722119}. Best is trial 5 with value: 0.6661203824938001.\u001b[0m\n",
      "\u001b[32m[I 2022-06-06 11:28:33,619]\u001b[0m Trial 34 finished with value: 0.663135178511217 and parameters: {'penalty': 'l1', 'C': 0.5327978015317876}. Best is trial 5 with value: 0.6661203824938001.\u001b[0m\n",
      "\u001b[32m[I 2022-06-06 11:28:33,645]\u001b[0m Trial 35 finished with value: 0.6657021302528306 and parameters: {'penalty': 'l1', 'C': 0.24217948033840114}. Best is trial 5 with value: 0.6661203824938001.\u001b[0m\n",
      "\u001b[32m[I 2022-06-06 11:28:33,672]\u001b[0m Trial 36 finished with value: 0.6628985648454275 and parameters: {'penalty': 'l2', 'C': 0.16182324731977804}. Best is trial 5 with value: 0.6661203824938001.\u001b[0m\n",
      "\u001b[32m[I 2022-06-06 11:28:33,704]\u001b[0m Trial 37 finished with value: 0.6630834785712096 and parameters: {'penalty': 'l1', 'C': 0.7116270962196938}. Best is trial 5 with value: 0.6661203824938001.\u001b[0m\n",
      "\u001b[32m[I 2022-06-06 11:28:33,731]\u001b[0m Trial 38 finished with value: 0.6629007543611504 and parameters: {'penalty': 'l2', 'C': 0.32354720023133776}. Best is trial 5 with value: 0.6661203824938001.\u001b[0m\n",
      "\u001b[32m[I 2022-06-06 11:28:33,768]\u001b[0m Trial 39 finished with value: 0.6633619484792354 and parameters: {'penalty': 'l1', 'C': 1.093622930059591}. Best is trial 5 with value: 0.6661203824938001.\u001b[0m\n"
     ]
    },
    {
     "name": "stderr",
     "output_type": "stream",
     "text": [
      "\u001b[32m[I 2022-06-06 11:28:33,794]\u001b[0m Trial 40 finished with value: 0.6627962597232745 and parameters: {'penalty': 'l2', 'C': 0.3194818831455636}. Best is trial 5 with value: 0.6661203824938001.\u001b[0m\n",
      "\u001b[32m[I 2022-06-06 11:28:33,824]\u001b[0m Trial 41 finished with value: 0.6625087580628917 and parameters: {'penalty': 'l1', 'C': 0.6525865686869048}. Best is trial 5 with value: 0.6661203824938001.\u001b[0m\n",
      "\u001b[32m[I 2022-06-06 11:28:33,851]\u001b[0m Trial 42 finished with value: 0.665571379672244 and parameters: {'penalty': 'l1', 'C': 0.37800940368880115}. Best is trial 5 with value: 0.6661203824938001.\u001b[0m\n",
      "\u001b[32m[I 2022-06-06 11:28:33,885]\u001b[0m Trial 43 finished with value: 0.6632035643856291 and parameters: {'penalty': 'l1', 'C': 0.9450262135701952}. Best is trial 5 with value: 0.6661203824938001.\u001b[0m\n",
      "\u001b[32m[I 2022-06-06 11:28:33,909]\u001b[0m Trial 44 finished with value: 0.6559894567519555 and parameters: {'penalty': 'l1', 'C': 0.11297859557957668}. Best is trial 5 with value: 0.6661203824938001.\u001b[0m\n",
      "\u001b[32m[I 2022-06-06 11:28:33,937]\u001b[0m Trial 45 finished with value: 0.665844649480428 and parameters: {'penalty': 'l1', 'C': 0.32549115473302265}. Best is trial 5 with value: 0.6661203824938001.\u001b[0m\n",
      "\u001b[32m[I 2022-06-06 11:28:33,977]\u001b[0m Trial 46 finished with value: 0.6613940573623927 and parameters: {'penalty': 'l1', 'C': 3.835508698986434}. Best is trial 5 with value: 0.6661203824938001.\u001b[0m\n",
      "\u001b[32m[I 2022-06-06 11:28:34,007]\u001b[0m Trial 47 finished with value: 0.6628394752898554 and parameters: {'penalty': 'l1', 'C': 0.6831745262351161}. Best is trial 5 with value: 0.6661203824938001.\u001b[0m\n",
      "\u001b[32m[I 2022-06-06 11:28:34,033]\u001b[0m Trial 48 finished with value: 0.666189315747143 and parameters: {'penalty': 'l1', 'C': 0.3093438482929426}. Best is trial 48 with value: 0.666189315747143.\u001b[0m\n",
      "\u001b[32m[I 2022-06-06 11:28:34,070]\u001b[0m Trial 49 finished with value: 0.6634144694876387 and parameters: {'penalty': 'l1', 'C': 1.177535554149618}. Best is trial 48 with value: 0.666189315747143.\u001b[0m\n",
      "\u001b[32m[I 2022-06-06 11:28:34,105]\u001b[0m Trial 50 finished with value: 0.6630624136053588 and parameters: {'penalty': 'l1', 'C': 0.9222943372525549}. Best is trial 48 with value: 0.666189315747143.\u001b[0m\n",
      "\u001b[32m[I 2022-06-06 11:28:34,131]\u001b[0m Trial 51 finished with value: 0.6663835349147476 and parameters: {'penalty': 'l1', 'C': 0.2824854207443699}. Best is trial 51 with value: 0.6663835349147476.\u001b[0m\n",
      "\u001b[32m[I 2022-06-06 11:28:34,158]\u001b[0m Trial 52 finished with value: 0.6663638383962235 and parameters: {'penalty': 'l1', 'C': 0.30076793071958413}. Best is trial 51 with value: 0.6663835349147476.\u001b[0m\n",
      "\u001b[32m[I 2022-06-06 11:28:34,189]\u001b[0m Trial 53 finished with value: 0.6630845733290711 and parameters: {'penalty': 'l1', 'C': 0.6937824535153796}. Best is trial 51 with value: 0.6663835349147476.\u001b[0m\n",
      "\u001b[32m[I 2022-06-06 11:28:34,231]\u001b[0m Trial 54 finished with value: 0.6607990929566199 and parameters: {'penalty': 'l1', 'C': 4.651335470583167}. Best is trial 51 with value: 0.6663835349147476.\u001b[0m\n",
      "\u001b[32m[I 2022-06-06 11:28:34,256]\u001b[0m Trial 55 finished with value: 0.6663137805930084 and parameters: {'penalty': 'l1', 'C': 0.2840254654138182}. Best is trial 51 with value: 0.6663835349147476.\u001b[0m\n",
      "\u001b[32m[I 2022-06-06 11:28:34,287]\u001b[0m Trial 56 finished with value: 0.6631338100638902 and parameters: {'penalty': 'l1', 'C': 0.8641853467441146}. Best is trial 51 with value: 0.6663835349147476.\u001b[0m\n",
      "\u001b[32m[I 2022-06-06 11:28:34,313]\u001b[0m Trial 57 finished with value: 0.6635895395156499 and parameters: {'penalty': 'l2', 'C': 0.10628323908904586}. Best is trial 51 with value: 0.6663835349147476.\u001b[0m\n",
      "\u001b[32m[I 2022-06-06 11:28:34,345]\u001b[0m Trial 58 finished with value: 0.6625073896155648 and parameters: {'penalty': 'l1', 'C': 0.6144809837302134}. Best is trial 51 with value: 0.6663835349147476.\u001b[0m\n",
      "\u001b[32m[I 2022-06-06 11:28:34,382]\u001b[0m Trial 59 finished with value: 0.6633086064024359 and parameters: {'penalty': 'l1', 'C': 1.5630102297068282}. Best is trial 51 with value: 0.6663835349147476.\u001b[0m\n",
      "\u001b[32m[I 2022-06-06 11:28:34,418]\u001b[0m Trial 60 finished with value: 0.6635900868945807 and parameters: {'penalty': 'l1', 'C': 1.2522805601460154}. Best is trial 51 with value: 0.6663835349147476.\u001b[0m\n",
      "\u001b[32m[I 2022-06-06 11:28:34,443]\u001b[0m Trial 61 finished with value: 0.6660856421776632 and parameters: {'penalty': 'l1', 'C': 0.3115762558042412}. Best is trial 51 with value: 0.6663835349147476.\u001b[0m\n",
      "\u001b[32m[I 2022-06-06 11:28:34,468]\u001b[0m Trial 62 finished with value: 0.6662084648867365 and parameters: {'penalty': 'l1', 'C': 0.2797705752174732}. Best is trial 51 with value: 0.6663835349147476.\u001b[0m\n",
      "\u001b[32m[I 2022-06-06 11:28:34,498]\u001b[0m Trial 63 finished with value: 0.662959561104275 and parameters: {'penalty': 'l1', 'C': 0.5653070421200177}. Best is trial 51 with value: 0.6663835349147476.\u001b[0m\n",
      "\u001b[32m[I 2022-06-06 11:28:34,523]\u001b[0m Trial 64 finished with value: 0.6654925935981479 and parameters: {'penalty': 'l1', 'C': 0.25026038812248885}. Best is trial 51 with value: 0.6663835349147476.\u001b[0m\n",
      "\u001b[32m[I 2022-06-06 11:28:34,556]\u001b[0m Trial 65 finished with value: 0.663031504941737 and parameters: {'penalty': 'l1', 'C': 0.8085050142311196}. Best is trial 51 with value: 0.6663835349147476.\u001b[0m\n",
      "\u001b[32m[I 2022-06-06 11:28:34,582]\u001b[0m Trial 66 finished with value: 0.6637977077230058 and parameters: {'penalty': 'l1', 'C': 0.45553809430440523}. Best is trial 51 with value: 0.6663835349147476.\u001b[0m\n",
      "\u001b[32m[I 2022-06-06 11:28:34,607]\u001b[0m Trial 67 finished with value: 0.6655265128458887 and parameters: {'penalty': 'l1', 'C': 0.23630415853069675}. Best is trial 51 with value: 0.6663835349147476.\u001b[0m\n",
      "\u001b[32m[I 2022-06-06 11:28:34,639]\u001b[0m Trial 68 finished with value: 0.6631707398957498 and parameters: {'penalty': 'l1', 'C': 0.7725306330575975}. Best is trial 51 with value: 0.6663835349147476.\u001b[0m\n",
      "\u001b[32m[I 2022-06-06 11:28:34,666]\u001b[0m Trial 69 finished with value: 0.6616790958175871 and parameters: {'penalty': 'l2', 'C': 0.5371276619890444}. Best is trial 51 with value: 0.6663835349147476.\u001b[0m\n",
      "\u001b[32m[I 2022-06-06 11:28:34,699]\u001b[0m Trial 70 finished with value: 0.6632727713284375 and parameters: {'penalty': 'l1', 'C': 1.0169023653321523}. Best is trial 51 with value: 0.6663835349147476.\u001b[0m\n",
      "\u001b[32m[I 2022-06-06 11:28:34,724]\u001b[0m Trial 71 finished with value: 0.6658142881957368 and parameters: {'penalty': 'l1', 'C': 0.36146566852841056}. Best is trial 51 with value: 0.6663835349147476.\u001b[0m\n",
      "\u001b[32m[I 2022-06-06 11:28:34,749]\u001b[0m Trial 72 finished with value: 0.665597088236024 and parameters: {'penalty': 'l1', 'C': 0.2442842816901625}. Best is trial 51 with value: 0.6663835349147476.\u001b[0m\n",
      "\u001b[32m[I 2022-06-06 11:28:34,778]\u001b[0m Trial 73 finished with value: 0.6635192378149801 and parameters: {'penalty': 'l1', 'C': 0.4973104328516827}. Best is trial 51 with value: 0.6663835349147476.\u001b[0m\n",
      "\u001b[32m[I 2022-06-06 11:28:34,802]\u001b[0m Trial 74 finished with value: 0.6543846968177579 and parameters: {'penalty': 'l1', 'C': 0.10521511739481801}. Best is trial 51 with value: 0.6663835349147476.\u001b[0m\n",
      "\u001b[32m[I 2022-06-06 11:28:34,828]\u001b[0m Trial 75 finished with value: 0.6658399967595167 and parameters: {'penalty': 'l1', 'C': 0.29544534673850575}. Best is trial 51 with value: 0.6663835349147476.\u001b[0m\n",
      "\u001b[32m[I 2022-06-06 11:28:34,857]\u001b[0m Trial 76 finished with value: 0.6646998611847031 and parameters: {'penalty': 'l1', 'C': 0.40044442096678445}. Best is trial 51 with value: 0.6663835349147476.\u001b[0m\n",
      "\u001b[32m[I 2022-06-06 11:28:34,887]\u001b[0m Trial 77 finished with value: 0.6625421299317017 and parameters: {'penalty': 'l1', 'C': 0.5976629847498627}. Best is trial 51 with value: 0.6663835349147476.\u001b[0m\n",
      "\u001b[32m[I 2022-06-06 11:28:34,913]\u001b[0m Trial 78 finished with value: 0.6666280855750325 and parameters: {'penalty': 'l1', 'C': 0.27221037657071306}. Best is trial 78 with value: 0.6666280855750325.\u001b[0m\n",
      "\u001b[32m[I 2022-06-06 11:28:34,951]\u001b[0m Trial 79 finished with value: 0.6620565865741815 and parameters: {'penalty': 'l1', 'C': 2.7398134727507135}. Best is trial 78 with value: 0.6666280855750325.\u001b[0m\n",
      "\u001b[32m[I 2022-06-06 11:28:34,978]\u001b[0m Trial 80 finished with value: 0.6636333115841438 and parameters: {'penalty': 'l2', 'C': 0.21754409000313285}. Best is trial 78 with value: 0.6666280855750325.\u001b[0m\n",
      "\u001b[32m[I 2022-06-06 11:28:35,006]\u001b[0m Trial 81 finished with value: 0.6651534011207401 and parameters: {'penalty': 'l1', 'C': 0.3871846840635793}. Best is trial 78 with value: 0.6666280855750325.\u001b[0m\n"
     ]
    },
    {
     "name": "stderr",
     "output_type": "stream",
     "text": [
      "\u001b[32m[I 2022-06-06 11:28:35,038]\u001b[0m Trial 82 finished with value: 0.6632930152258922 and parameters: {'penalty': 'l1', 'C': 0.7184847477382832}. Best is trial 78 with value: 0.6666280855750325.\u001b[0m\n",
      "\u001b[32m[I 2022-06-06 11:28:35,068]\u001b[0m Trial 83 finished with value: 0.6630315049417369 and parameters: {'penalty': 'l1', 'C': 0.5183076774040706}. Best is trial 78 with value: 0.6666280855750325.\u001b[0m\n",
      "\u001b[32m[I 2022-06-06 11:28:35,094]\u001b[0m Trial 84 finished with value: 0.6658435547225665 and parameters: {'penalty': 'l1', 'C': 0.3220391114958236}. Best is trial 78 with value: 0.6666280855750325.\u001b[0m\n",
      "\u001b[32m[I 2022-06-06 11:28:35,119]\u001b[0m Trial 85 finished with value: 0.6652800463593462 and parameters: {'penalty': 'l1', 'C': 0.22501883858302335}. Best is trial 78 with value: 0.6666280855750325.\u001b[0m\n",
      "\u001b[32m[I 2022-06-06 11:28:35,147]\u001b[0m Trial 86 finished with value: 0.663691844637803 and parameters: {'penalty': 'l1', 'C': 0.4460217032196223}. Best is trial 78 with value: 0.6666280855750325.\u001b[0m\n",
      "\u001b[32m[I 2022-06-06 11:28:35,178]\u001b[0m Trial 87 finished with value: 0.662665773709171 and parameters: {'penalty': 'l1', 'C': 0.6556810751297428}. Best is trial 78 with value: 0.6666280855750325.\u001b[0m\n",
      "\u001b[32m[I 2022-06-06 11:28:35,220]\u001b[0m Trial 88 finished with value: 0.6614285239890642 and parameters: {'penalty': 'l1', 'C': 3.3488751437305604}. Best is trial 78 with value: 0.6666280855750325.\u001b[0m\n",
      "\u001b[32m[I 2022-06-06 11:28:35,244]\u001b[0m Trial 89 finished with value: 0.6556062185165886 and parameters: {'penalty': 'l1', 'C': 0.11116792735644515}. Best is trial 78 with value: 0.6666280855750325.\u001b[0m\n",
      "\u001b[32m[I 2022-06-06 11:28:35,281]\u001b[0m Trial 90 finished with value: 0.6628567086031912 and parameters: {'penalty': 'l1', 'C': 1.8587212701956422}. Best is trial 78 with value: 0.6666280855750325.\u001b[0m\n",
      "\u001b[32m[I 2022-06-06 11:28:35,307]\u001b[0m Trial 91 finished with value: 0.6661548491204716 and parameters: {'penalty': 'l1', 'C': 0.3079210812533836}. Best is trial 78 with value: 0.6666280855750325.\u001b[0m\n",
      "\u001b[32m[I 2022-06-06 11:28:35,332]\u001b[0m Trial 92 finished with value: 0.665913582733771 and parameters: {'penalty': 'l1', 'C': 0.3207000122750064}. Best is trial 78 with value: 0.6666280855750325.\u001b[0m\n",
      "\u001b[32m[I 2022-06-06 11:28:35,356]\u001b[0m Trial 93 finished with value: 0.6644274033219333 and parameters: {'penalty': 'l1', 'C': 0.20952594284134168}. Best is trial 78 with value: 0.6666280855750325.\u001b[0m\n",
      "\u001b[32m[I 2022-06-06 11:28:35,387]\u001b[0m Trial 94 finished with value: 0.6625426773106324 and parameters: {'penalty': 'l1', 'C': 0.5867364265579293}. Best is trial 78 with value: 0.6666280855750325.\u001b[0m\n",
      "\u001b[32m[I 2022-06-06 11:28:35,420]\u001b[0m Trial 95 finished with value: 0.6630624136053587 and parameters: {'penalty': 'l1', 'C': 0.919141618766679}. Best is trial 78 with value: 0.6666280855750325.\u001b[0m\n",
      "\u001b[32m[I 2022-06-06 11:28:35,448]\u001b[0m Trial 96 finished with value: 0.6636571043216662 and parameters: {'penalty': 'l1', 'C': 0.4437437921418227}. Best is trial 78 with value: 0.6666280855750325.\u001b[0m\n",
      "\u001b[32m[I 2022-06-06 11:28:35,479]\u001b[0m Trial 97 finished with value: 0.6632927415364269 and parameters: {'penalty': 'l1', 'C': 0.7538496834772045}. Best is trial 78 with value: 0.6666280855750325.\u001b[0m\n",
      "\u001b[32m[I 2022-06-06 11:28:35,505]\u001b[0m Trial 98 finished with value: 0.6655691901565213 and parameters: {'penalty': 'l1', 'C': 0.35791230712845173}. Best is trial 78 with value: 0.6666280855750325.\u001b[0m\n",
      "\u001b[32m[I 2022-06-06 11:28:35,529]\u001b[0m Trial 99 finished with value: 0.6632492522803807 and parameters: {'penalty': 'l2', 'C': 0.19488637514782925}. Best is trial 78 with value: 0.6666280855750325.\u001b[0m\n",
      "\u001b[32m[I 2022-06-06 11:28:35,529]\u001b[0m Finished hyperparemeter search!\u001b[0m\n",
      "\u001b[32m[I 2022-06-06 11:28:35,530]\u001b[0m Refitting the estimator using 790 samples...\u001b[0m\n",
      "\u001b[32m[I 2022-06-06 11:28:35,534]\u001b[0m Finished refitting! (elapsed time: 0.004 sec.)\u001b[0m\n"
     ]
    },
    {
     "data": {
      "text/plain": [
       "OptunaSearchCV(cv=StratifiedKFold(n_splits=5, random_state=1234, shuffle=True),\n",
       "               estimator=LogisticRegression(class_weight='balanced',\n",
       "                                            max_iter=200, n_jobs=1,\n",
       "                                            random_state=1234,\n",
       "                                            solver='liblinear'),\n",
       "               n_trials=100,\n",
       "               param_distributions={'C': UniformDistribution(high=5.0, low=0.1),\n",
       "                                    'penalty': CategoricalDistribution(choices=('l1', 'l2'))},\n",
       "               random_state=1234, scoring='roc_auc', verbose=10)"
      ]
     },
     "execution_count": 92,
     "metadata": {},
     "output_type": "execute_result"
    }
   ],
   "source": [
    "opt_search = OptunaSearchCV(estimator=lr,\n",
    "                                    param_distributions=params['space'],\n",
    "                                    cv=inner_cv,\n",
    "                                    n_trials=100,\n",
    "                                    random_state=1234,\n",
    "                                    refit=True,\n",
    "                                    scoring=\"roc_auc\",\n",
    "                                    verbose=10,\n",
    "                                    n_jobs=1)\n",
    "\n",
    "opt_search.fit(X, y)"
   ]
  }
 ],
 "metadata": {
  "kernelspec": {
   "display_name": "Python 3 (ipykernel)",
   "language": "python",
   "name": "python3"
  },
  "language_info": {
   "codemirror_mode": {
    "name": "ipython",
    "version": 3
   },
   "file_extension": ".py",
   "mimetype": "text/x-python",
   "name": "python",
   "nbconvert_exporter": "python",
   "pygments_lexer": "ipython3",
   "version": "3.10.1"
  }
 },
 "nbformat": 4,
 "nbformat_minor": 5
}
