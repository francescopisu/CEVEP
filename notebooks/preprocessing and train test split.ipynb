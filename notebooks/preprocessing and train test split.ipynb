{
 "cells": [
  {
   "cell_type": "code",
   "execution_count": 111,
   "id": "5c097191",
   "metadata": {},
   "outputs": [],
   "source": [
    "import numpy as np\n",
    "import pandas as pd\n",
    "from sklearn.model_selection import train_test_split\n",
    "from sklearn.preprocessing import StandardScaler, LabelEncoder, OrdinalEncoder"
   ]
  },
  {
   "cell_type": "code",
   "execution_count": 112,
   "id": "f10a15db",
   "metadata": {},
   "outputs": [],
   "source": [
    "df = pd.read_csv('../input/calcifications.csv')"
   ]
  },
  {
   "cell_type": "code",
   "execution_count": 113,
   "id": "efecd732",
   "metadata": {},
   "outputs": [],
   "source": [
    "df[\"smoker_status\"] = df[\"smoker_status\"].apply(lambda v: \"no\" if v == \"no\" else \"yes\")\n",
    "df[\"calcification_type_left\"] = df[\"calcification_type_left\"].apply(lambda v: v.replace(\" \", \"\"))\n",
    "df[\"calcification_type_right\"] = df[\"calcification_type_right\"].apply(lambda v: v.replace(\" \", \"\"))"
   ]
  },
  {
   "cell_type": "code",
   "execution_count": 114,
   "id": "277ab8f7",
   "metadata": {},
   "outputs": [],
   "source": [
    "SEED = 1303"
   ]
  },
  {
   "cell_type": "markdown",
   "id": "cc08f397",
   "metadata": {},
   "source": [
    "# Preprocessing"
   ]
  },
  {
   "cell_type": "code",
   "execution_count": 115,
   "id": "b68414b8",
   "metadata": {},
   "outputs": [],
   "source": [
    "TO_DROP = [\"site\", \"patient_ID\", \"infarct_side\", \"stroke\", \"tabulator\"]\n",
    "TO_SCALE = [\"age\", \"stenosis_left\", \"stenosis_right\"]\n",
    "TO_LABEL_ENCODE = [\"TIA\", \"hypertension\", \"cad\", \"gender\", \"diabetes\", \"hyperlipidemia\", \"smoker_status\"]\n",
    "TO_OHE = [\"calcification_type_left\", \"calcification_type_right\"]\n",
    "PREFIXES = [\"calcification_left\", \"calcification_right\"]\n",
    "TARGET = \"symptoms\""
   ]
  },
  {
   "cell_type": "code",
   "execution_count": 116,
   "id": "be616f07",
   "metadata": {},
   "outputs": [],
   "source": [
    "df = df.drop(TO_DROP, axis=1)"
   ]
  },
  {
   "cell_type": "code",
   "execution_count": 117,
   "id": "c99472cf",
   "metadata": {
    "scrolled": true
   },
   "outputs": [],
   "source": [
    "X = df.drop(TARGET, axis=1)\n",
    "y = df.symptoms\n",
    "X_train, X_test, y_train, y_test = train_test_split(X, y, \n",
    "                                                    test_size=0.2, \n",
    "                                                    random_state=SEED, \n",
    "                                                    stratify=y)"
   ]
  },
  {
   "cell_type": "markdown",
   "id": "1ff840c7",
   "metadata": {},
   "source": [
    "## Training set"
   ]
  },
  {
   "cell_type": "code",
   "execution_count": 8,
   "id": "6a9f5a89",
   "metadata": {},
   "outputs": [],
   "source": [
    "# Label encoding for the target\n",
    "le = LabelEncoder()\n",
    "y_train = le.fit_transform(y_train)"
   ]
  },
  {
   "cell_type": "code",
   "execution_count": 9,
   "id": "ae8addae",
   "metadata": {},
   "outputs": [],
   "source": [
    "# Ordinal encoding for categorical binary features\n",
    "oe = OrdinalEncoder()\n",
    "X_train[TO_LABEL_ENCODE] = oe.fit_transform(X_train[TO_LABEL_ENCODE]).astype(np.uint8)"
   ]
  },
  {
   "cell_type": "code",
   "execution_count": 66,
   "id": "ba8bd2f4",
   "metadata": {},
   "outputs": [],
   "source": [
    "# One-hot encoding for categorical features with > 2 levels\n",
    "X_train = pd.get_dummies(X_train, columns=TO_OHE, prefix=PREFIXES)"
   ]
  },
  {
   "cell_type": "code",
   "execution_count": 69,
   "id": "b885885e",
   "metadata": {},
   "outputs": [],
   "source": [
    "# Scale numeric columns\n",
    "scaler = StandardScaler()\n",
    "X_train[TO_SCALE] = scaler.fit_transform(X_train[TO_SCALE])"
   ]
  },
  {
   "cell_type": "markdown",
   "id": "0c5a6c42",
   "metadata": {},
   "source": [
    "## Test set"
   ]
  },
  {
   "cell_type": "code",
   "execution_count": 70,
   "id": "0dfdd045",
   "metadata": {},
   "outputs": [],
   "source": [
    "y_test = le.transform(y_test)\n",
    "X_test[TO_LABEL_ENCODE] = oe.transform(X_test[TO_LABEL_ENCODE]).astype(np.uint8)\n",
    "X_test = pd.get_dummies(X_test, columns=TO_OHE, prefix=PREFIXES)\n",
    "X_test[TO_SCALE] = scaler.transform(X_test[TO_SCALE])"
   ]
  },
  {
   "cell_type": "markdown",
   "id": "2778e14e",
   "metadata": {},
   "source": [
    "## Add targets to design matrices"
   ]
  },
  {
   "cell_type": "code",
   "execution_count": 76,
   "id": "26be1e8c",
   "metadata": {},
   "outputs": [],
   "source": [
    "X_train[TARGET] = y_train\n",
    "X_test[TARGET] = y_test"
   ]
  },
  {
   "cell_type": "code",
   "execution_count": 79,
   "id": "881965ef",
   "metadata": {},
   "outputs": [],
   "source": [
    "X_train.to_csv('../input/train.csv', index=False)\n",
    "X_test.to_csv('../input/test.csv', index=False)"
   ]
  },
  {
   "cell_type": "markdown",
   "id": "fd10e4cc",
   "metadata": {},
   "source": [
    "# No one-hot encoding"
   ]
  },
  {
   "cell_type": "code",
   "execution_count": 118,
   "id": "effb3f63",
   "metadata": {},
   "outputs": [],
   "source": [
    "TO_DROP = [\"site\", \"patient_ID\", \"infarct_side\", \"stroke\", \"tabulator\"]\n",
    "TO_SCALE = [\"age\", \"stenosis_left\", \"stenosis_right\"]\n",
    "TO_LABEL_ENCODE = [\"TIA\", \"hypertension\", \"cad\", \"gender\", \n",
    "                   \"diabetes\", \"hyperlipidemia\", \"smoker_status\",\n",
    "                  \"calcification_type_left\", \"calcification_type_right\"]\n",
    "PREFIXES = [\"calcification_left\", \"calcification_right\"]\n",
    "TARGET = \"symptoms\""
   ]
  },
  {
   "cell_type": "code",
   "execution_count": 119,
   "id": "29e747e4",
   "metadata": {},
   "outputs": [],
   "source": [
    "# Label encoding for the target\n",
    "le = LabelEncoder()\n",
    "y_train = le.fit_transform(y_train)"
   ]
  },
  {
   "cell_type": "code",
   "execution_count": 120,
   "id": "5ed2a120",
   "metadata": {},
   "outputs": [],
   "source": [
    "# Ordinal encoding for categorical binary features\n",
    "oe = OrdinalEncoder()\n",
    "X_train[TO_LABEL_ENCODE] = oe.fit_transform(X_train[TO_LABEL_ENCODE]).astype(np.uint8)"
   ]
  },
  {
   "cell_type": "code",
   "execution_count": 41,
   "id": "3eb69161",
   "metadata": {},
   "outputs": [],
   "source": [
    "# Scale numeric columns\n",
    "scaler = StandardScaler()\n",
    "X_train[TO_SCALE] = scaler.fit_transform(X_train[TO_SCALE])\n",
    "X_test[TO_SCALE] = scaler.transform(X_test[TO_SCALE])"
   ]
  },
  {
   "cell_type": "code",
   "execution_count": 121,
   "id": "f07c7dba",
   "metadata": {},
   "outputs": [],
   "source": [
    "y_test = le.transform(y_test)\n",
    "X_test[TO_LABEL_ENCODE] = oe.transform(X_test[TO_LABEL_ENCODE]).astype(np.uint8)"
   ]
  },
  {
   "cell_type": "code",
   "execution_count": 28,
   "id": "4db13090",
   "metadata": {},
   "outputs": [],
   "source": [
    "X_train[TARGET] = y_train\n",
    "X_test[TARGET] = y_test\n",
    "X_train.to_csv('../input/train_no_ohe.csv', index=False)\n",
    "X_test.to_csv('../input/test_no_ohe.csv', index=False)"
   ]
  },
  {
   "cell_type": "markdown",
   "id": "31a7cd94",
   "metadata": {},
   "source": [
    "## Experiment with feature engineering"
   ]
  },
  {
   "cell_type": "code",
   "execution_count": 122,
   "id": "f0a50803",
   "metadata": {},
   "outputs": [],
   "source": [
    "def positive_rim_sign(left, right):\n",
    "    return 1 if (left == 5.0 or right == 5.0) else 0\n",
    "    \n",
    "X_train['prs'] = X_train.apply(lambda x: positive_rim_sign(x['calcification_type_left'], x['calcification_type_right']), axis=1)\n",
    "X_test['prs'] = X_test.apply(lambda x: positive_rim_sign(x['calcification_type_left'], x['calcification_type_right']), axis=1)"
   ]
  },
  {
   "cell_type": "code",
   "execution_count": 124,
   "id": "91b79c9b",
   "metadata": {},
   "outputs": [],
   "source": [
    "def calc(left, right):\n",
    "    return 0 if left == 0.0 and right == 0.0 else 1\n",
    "    \n",
    "X_train['calcification'] = X_train.apply(lambda x: calc(x['calcification_type_left'], x['calcification_type_right']), axis=1)\n",
    "X_test['calcification'] = X_test.apply(lambda x: calc(x['calcification_type_left'], x['calcification_type_right']), axis=1)"
   ]
  },
  {
   "cell_type": "code",
   "execution_count": 127,
   "id": "4c7e974c",
   "metadata": {},
   "outputs": [],
   "source": [
    "X_train[TARGET] = y_train\n",
    "X_test[TARGET] = y_test\n",
    "X_train.to_csv('../input/train_no_ohe_new_feat.csv', index=False)\n",
    "X_test.to_csv('../input/test_no_ohe_new_feat.csv', index=False)"
   ]
  }
 ],
 "metadata": {
  "kernelspec": {
   "display_name": "Python 3 (ipykernel)",
   "language": "python",
   "name": "python3"
  },
  "language_info": {
   "codemirror_mode": {
    "name": "ipython",
    "version": 3
   },
   "file_extension": ".py",
   "mimetype": "text/x-python",
   "name": "python",
   "nbconvert_exporter": "python",
   "pygments_lexer": "ipython3",
   "version": "3.9.10"
  }
 },
 "nbformat": 4,
 "nbformat_minor": 5
}
